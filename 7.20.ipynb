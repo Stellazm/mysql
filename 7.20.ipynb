{
 "cells": [
  {
   "cell_type": "markdown",
   "metadata": {},
   "source": [
    "# 函数\n",
    "\n",
    "- 函数可以用来定义可重复代码，组织和简化\n",
    "- 一般来说一个函数在实际开发中为一个小功能\n",
    "- 一个类为一个大功能\n",
    "- 同样函数的长度不要超过一屏"
   ]
  },
  {
   "cell_type": "code",
   "execution_count": 1,
   "metadata": {},
   "outputs": [],
   "source": [
    "def JJ():\n",
    "    print('hello')"
   ]
  },
  {
   "cell_type": "code",
   "execution_count": 2,
   "metadata": {},
   "outputs": [
    {
     "name": "stdout",
     "output_type": "stream",
     "text": [
      "hello\n"
     ]
    }
   ],
   "source": [
    "JJ()"
   ]
  },
  {
   "cell_type": "code",
   "execution_count": 3,
   "metadata": {},
   "outputs": [
    {
     "name": "stdout",
     "output_type": "stream",
     "text": [
      "hello\n",
      "None\n"
     ]
    }
   ],
   "source": [
    "a=JJ()\n",
    "print(a)"
   ]
  },
  {
   "cell_type": "code",
   "execution_count": 4,
   "metadata": {},
   "outputs": [],
   "source": [
    "def JJ():\n",
    "    print('hello')\n",
    "    return 100"
   ]
  },
  {
   "cell_type": "code",
   "execution_count": 5,
   "metadata": {},
   "outputs": [
    {
     "name": "stdout",
     "output_type": "stream",
     "text": [
      "hello\n",
      "100\n"
     ]
    }
   ],
   "source": [
    "a=JJ()\n",
    "print(a)"
   ]
  },
  {
   "cell_type": "markdown",
   "metadata": {},
   "source": [
    "python中的所有函数实际上都有返回值(return None),\n",
    "如果你没有设置return,那么python将不显示None\n",
    "如果你设置return,显示None"
   ]
  },
  {
   "cell_type": "markdown",
   "metadata": {},
   "source": [
    "## 定义一个函数\n",
    "\n",
    "def function_name(list of parameters):\n",
    "    \n",
    "    do something\n",
    "![](../Photo/69.png)\n",
    "- 以前使用的random 或者range 或者print.. 其实都是函数或者类"
   ]
  },
  {
   "cell_type": "code",
   "execution_count": 6,
   "metadata": {},
   "outputs": [],
   "source": [
    "def max (num1,num2):\n",
    "    if num1>num2:\n",
    "        return num1\n",
    "    else:\n",
    "        return num2"
   ]
  },
  {
   "cell_type": "code",
   "execution_count": 8,
   "metadata": {},
   "outputs": [
    {
     "data": {
      "text/plain": [
       "4"
      ]
     },
     "execution_count": 8,
     "metadata": {},
     "output_type": "execute_result"
    }
   ],
   "source": [
    "max(2,4)"
   ]
  },
  {
   "cell_type": "code",
   "execution_count": 13,
   "metadata": {},
   "outputs": [],
   "source": [
    "def max (num1,num2,num3):\n",
    "    if num1>num2 and num2>num3:\n",
    "        return num1\n",
    "    elif num1>num2 and num<num3:\n",
    "        return num2\n",
    "    else:\n",
    "        return num3\n",
    "    max(1,2,3)"
   ]
  },
  {
   "cell_type": "code",
   "execution_count": 14,
   "metadata": {},
   "outputs": [
    {
     "data": {
      "text/plain": [
       "789"
      ]
     },
     "execution_count": 14,
     "metadata": {},
     "output_type": "execute_result"
    }
   ],
   "source": [
    "def max_(num1,num2,num3):\n",
    "    if num1>=num2>=num3:\n",
    "        return num1\n",
    "    elif num1>=num3>=num2:\n",
    "        return num1\n",
    "    elif num2>=num1>=num3:\n",
    "        return num2\n",
    "    elif num2>=num3>=nuum1:\n",
    "        return num2\n",
    "    else:\n",
    "        return num3\n",
    "max_(256,456,789)    "
   ]
  },
  {
   "cell_type": "markdown",
   "metadata": {},
   "source": [
    "## 调用一个函数\n",
    "- functionName()\n",
    "- \"()\" 就代表调用"
   ]
  },
  {
   "cell_type": "markdown",
   "metadata": {},
   "source": [
    "### ![](../Photo/70.png)"
   ]
  },
  {
   "cell_type": "code",
   "execution_count": 17,
   "metadata": {},
   "outputs": [],
   "source": [
    "def good(name='zm'):\n",
    "    print('%s is a bad man !'%name)"
   ]
  },
  {
   "cell_type": "code",
   "execution_count": 18,
   "metadata": {},
   "outputs": [
    {
     "name": "stdout",
     "output_type": "stream",
     "text": [
      "zm is a bad man !\n"
     ]
    }
   ],
   "source": [
    "good()"
   ]
  },
  {
   "cell_type": "code",
   "execution_count": 1,
   "metadata": {},
   "outputs": [
    {
     "name": "stdout",
     "output_type": "stream",
     "text": [
      "请输入一个整数：23\n",
      "奇数\n"
     ]
    }
   ],
   "source": [
    "def jio(num):\n",
    "    if num%2==0:\n",
    "        print('偶数')\n",
    "    else:\n",
    "        print('奇数')\n",
    "a=eval(input('请输入一个整数：'))\n",
    "jio(a)"
   ]
  },
  {
   "cell_type": "code",
   "execution_count": 3,
   "metadata": {},
   "outputs": [
    {
     "name": "stdout",
     "output_type": "stream",
     "text": [
      "一个整数：6\n",
      "大了\n",
      "一个整数：3\n",
      "不错\n"
     ]
    }
   ],
   "source": [
    "import random\n",
    "a=random.randint(1,5)\n",
    "def bijiao(num_,n):\n",
    "    if num_==n:\n",
    "        print(\"不错\")\n",
    "    elif num_<n:\n",
    "        print('大了')\n",
    "    else:\n",
    "        print('小了')\n",
    "for i in range (5):\n",
    "    b=eval(input('一个整数：'))\n",
    "    bijiao(a,b)\n",
    "    if a==b:\n",
    "        break"
   ]
  },
  {
   "cell_type": "markdown",
   "metadata": {},
   "source": [
    "##### 函数的参数如果有默认值的情况，当你调用该函数的时候：\n",
    "可以不给予参数值，那么就会走该参数的默认值\n",
    "否则的话，就走你给予的参数值。"
   ]
  },
  {
   "cell_type": "markdown",
   "metadata": {},
   "source": [
    "## 带返回值和不带返回值的函数\n",
    "- return 返回的内容\n",
    "- return 返回多个值\n",
    "- 一般情况下，在多个函数协同完成一个功能的时候，那么将会有返回值"
   ]
  },
  {
   "cell_type": "markdown",
   "metadata": {},
   "source": [
    "![](../Photo/71.png)\n",
    "\n",
    "- 当然也可以自定义返回None"
   ]
  },
  {
   "cell_type": "markdown",
   "metadata": {},
   "source": [
    "## EP：\n",
    "![](../Photo/72.png)"
   ]
  },
  {
   "cell_type": "code",
   "execution_count": 21,
   "metadata": {},
   "outputs": [],
   "source": [
    "def fun1():\n",
    "    print('hahaha')\n",
    "def fun2(f):\n",
    "    f()"
   ]
  },
  {
   "cell_type": "code",
   "execution_count": 22,
   "metadata": {},
   "outputs": [
    {
     "name": "stdout",
     "output_type": "stream",
     "text": [
      "hahaha\n"
     ]
    }
   ],
   "source": [
    "fun2(fun1)"
   ]
  },
  {
   "cell_type": "markdown",
   "metadata": {},
   "source": [
    "# KNN算法\n",
    "# 读取图片，进行对比分析\n",
    "import matplotlib.pyplot as plt \n",
    "\n",
    "res = plt.imread('D:/rabbit.jpg')\n",
    "print(res)"
   ]
  },
  {
   "cell_type": "markdown",
   "metadata": {},
   "source": [
    "## 类型和关键字参数\n",
    "- 普通参数\n",
    "- 多个参数\n",
    "- 默认值参数\n",
    "- 不定长参数"
   ]
  },
  {
   "cell_type": "markdown",
   "metadata": {},
   "source": [
    "## 普通参数"
   ]
  },
  {
   "cell_type": "markdown",
   "metadata": {},
   "source": [
    "## 多个参数"
   ]
  },
  {
   "cell_type": "markdown",
   "metadata": {},
   "source": [
    "## 默认值参数\n",
    "- 默认参数只能放在最后  *之后的必须强制命名传入参数,* 之后的变量必须带参数名"
   ]
  },
  {
   "cell_type": "markdown",
   "metadata": {},
   "source": [
    "# 强制命名\n",
    "- *之后的必须强制命名传入参数,* 之后的变量必须带参数名"
   ]
  },
  {
   "cell_type": "code",
   "execution_count": 9,
   "metadata": {},
   "outputs": [],
   "source": [
    "def U(str_):\n",
    "    for i in str_:\n",
    "        ASCII=ord(i)\n",
    "        if 97<=ASCII<=122:\n",
    "            xiaoxie+=1\n",
    "        elif"
   ]
  },
  {
   "cell_type": "code",
   "execution_count": 3,
   "metadata": {},
   "outputs": [
    {
     "ename": "TypeError",
     "evalue": "haha() missing 1 required keyword-only argument: 'name3'",
     "output_type": "error",
     "traceback": [
      "\u001b[1;31m---------------------------------------------------------------------------\u001b[0m",
      "\u001b[1;31mTypeError\u001b[0m                                 Traceback (most recent call last)",
      "\u001b[1;32m<ipython-input-3-9db112599be2>\u001b[0m in \u001b[0;36m<module>\u001b[1;34m\u001b[0m\n\u001b[0;32m      1\u001b[0m \u001b[1;32mdef\u001b[0m \u001b[0mhaha\u001b[0m \u001b[1;33m(\u001b[0m\u001b[1;33m*\u001b[0m\u001b[1;33m,\u001b[0m\u001b[0mname\u001b[0m\u001b[1;33m,\u001b[0m\u001b[0mname2\u001b[0m\u001b[1;33m,\u001b[0m\u001b[0mname3\u001b[0m\u001b[1;33m,\u001b[0m\u001b[0mname4\u001b[0m\u001b[1;33m=\u001b[0m\u001b[1;34m'H'\u001b[0m\u001b[1;33m)\u001b[0m\u001b[1;33m:\u001b[0m\u001b[1;33m\u001b[0m\u001b[1;33m\u001b[0m\u001b[0m\n\u001b[0;32m      2\u001b[0m     \u001b[0mprint\u001b[0m\u001b[1;33m(\u001b[0m\u001b[0mname\u001b[0m\u001b[1;33m)\u001b[0m\u001b[1;33m\u001b[0m\u001b[1;33m\u001b[0m\u001b[0m\n\u001b[1;32m----> 3\u001b[1;33m \u001b[0mhaha\u001b[0m\u001b[1;33m(\u001b[0m\u001b[0mname\u001b[0m\u001b[1;33m=\u001b[0m\u001b[1;34m'stella'\u001b[0m\u001b[1;33m,\u001b[0m\u001b[0mname2\u001b[0m\u001b[1;33m=\u001b[0m\u001b[1;34m'haha'\u001b[0m\u001b[1;33m)\u001b[0m\u001b[1;33m\u001b[0m\u001b[1;33m\u001b[0m\u001b[0m\n\u001b[0m",
      "\u001b[1;31mTypeError\u001b[0m: haha() missing 1 required keyword-only argument: 'name3'"
     ]
    }
   ],
   "source": [
    "def haha (*,name,name2,name3,name4='H'):\n",
    "    print(name)\n",
    "haha(name='stella',name2='haha')"
   ]
  },
  {
   "cell_type": "markdown",
   "metadata": {},
   "source": [
    "## 不定长参数\n",
    "- \\*args, 不定长，输入多少参数都可以，不写入参数也可以\n",
    "> - 可以输入多个参数\n",
    "  - 返回输出结果的类型是元组类型，元组可以迭代，输入多少个参数都可以迭代来取出\n",
    "  - args 名字是可以修改的，只是通常约定为args\n",
    "- \\**kwargs, 不定长第二种\n",
    "> - 可以输入多个参数，但需要带参数名称\n",
    "  - 返回的数据类型是字典\n",
    "  - 输入的一定要是表达式(键值对)\n",
    "- 一般大的项目传入参数时，使用config文件一次写入所有的参数"
   ]
  },
  {
   "cell_type": "code",
   "execution_count": 7,
   "metadata": {},
   "outputs": [
    {
     "name": "stdout",
     "output_type": "stream",
     "text": [
      "(1, 2, 3)\n"
     ]
    }
   ],
   "source": [
    "def TT(*args):\n",
    "    print(args)\n",
    "TT(1,2,3)"
   ]
  },
  {
   "cell_type": "code",
   "execution_count": 8,
   "metadata": {},
   "outputs": [
    {
     "name": "stdout",
     "output_type": "stream",
     "text": [
      "()\n"
     ]
    }
   ],
   "source": [
    "TT()"
   ]
  },
  {
   "cell_type": "code",
   "execution_count": 9,
   "metadata": {},
   "outputs": [
    {
     "name": "stdout",
     "output_type": "stream",
     "text": [
      "(1, 2, 3, 4, 5, 6)\n"
     ]
    }
   ],
   "source": [
    "TT(1,2,3,4,5,6)"
   ]
  },
  {
   "cell_type": "code",
   "execution_count": 14,
   "metadata": {},
   "outputs": [
    {
     "name": "stdout",
     "output_type": "stream",
     "text": [
      "1\n",
      "2\n",
      "3\n",
      "4\n"
     ]
    }
   ],
   "source": [
    "a=(1,2,3,4)\n",
    "for i in a:\n",
    "    print(i)"
   ]
  },
  {
   "cell_type": "code",
   "execution_count": 15,
   "metadata": {},
   "outputs": [],
   "source": [
    "def max_(*args):\n",
    "    res=0\n",
    "    for i in args:\n",
    "        if i>res:\n",
    "            res=i\n",
    "    return res"
   ]
  },
  {
   "cell_type": "code",
   "execution_count": 16,
   "metadata": {},
   "outputs": [
    {
     "data": {
      "text/plain": [
       "100"
      ]
     },
     "execution_count": 16,
     "metadata": {},
     "output_type": "execute_result"
    }
   ],
   "source": [
    "max_(-1,0,100,1,2,3,5)"
   ]
  },
  {
   "cell_type": "code",
   "execution_count": 17,
   "metadata": {},
   "outputs": [
    {
     "ename": "SyntaxError",
     "evalue": "invalid syntax (<ipython-input-17-79c141e897b6>, line 4)",
     "output_type": "error",
     "traceback": [
      "\u001b[1;36m  File \u001b[1;32m\"<ipython-input-17-79c141e897b6>\"\u001b[1;36m, line \u001b[1;32m4\u001b[0m\n\u001b[1;33m    if i=sum(args):\u001b[0m\n\u001b[1;37m        ^\u001b[0m\n\u001b[1;31mSyntaxError\u001b[0m\u001b[1;31m:\u001b[0m invalid syntax\n"
     ]
    }
   ],
   "source": [
    "def sum(*args):\n",
    "    res=0\n",
    "    for i in args:\n",
    "        if i=:\n",
    "            res=i\n",
    "    return res"
   ]
  },
  {
   "cell_type": "code",
   "execution_count": 19,
   "metadata": {},
   "outputs": [],
   "source": [
    "def sum_(*args,A='sum'):\n",
    "    res=0\n",
    "    count=0\n",
    "    for i in args:\n",
    "        res+=i\n",
    "        count+=1\n",
    "    if A ==\"sum\":\n",
    "        return res\n",
    "    elif A==\"mean\":\n",
    "        mean = res/count\n",
    "        return res,mean\n",
    "    else:\n",
    "        print(A,'还未开放')"
   ]
  },
  {
   "cell_type": "code",
   "execution_count": 20,
   "metadata": {},
   "outputs": [
    {
     "name": "stdout",
     "output_type": "stream",
     "text": [
      "var 还未开放\n"
     ]
    }
   ],
   "source": [
    "sum_(-1,0,1,4,A='var')"
   ]
  },
  {
   "cell_type": "code",
   "execution_count": 25,
   "metadata": {},
   "outputs": [],
   "source": [
    "A=ord('a')\n",
    "B=ord('H')\n",
    "C=ord('b')\n",
    "D=ord('K')\n",
    "E=ord('3')\n",
    "F=ord('6')\n",
    "H=ord('5')"
   ]
  },
  {
   "cell_type": "markdown",
   "metadata": {},
   "source": [
    "### \\**kwargs, 不定长第二种\n",
    "- 第二种不定长参数传入方法，使用字典数据传入\n",
    "- 写入参数时，必须先写\\*args, 再写\\**kwargs。 这是固定写法"
   ]
  },
  {
   "cell_type": "markdown",
   "metadata": {},
   "source": [
    "## 变量的作用域\n",
    "- 局部变量 local\n",
    "- 全局变量 global\n",
    "- globals 函数返回一个全局变量的字典，包括所有导入的变量\n",
    "- locals() 函数会以字典类型返回当前位置的全部局部变量。"
   ]
  },
  {
   "cell_type": "code",
   "execution_count": 3,
   "metadata": {},
   "outputs": [
    {
     "name": "stdout",
     "output_type": "stream",
     "text": [
      "{'a': 100, 'b': 1000}\n"
     ]
    }
   ],
   "source": [
    "def TT(**kwargs):\n",
    "    print(kwargs)\n",
    "TT(a=100,b=1000)\n",
    "    "
   ]
  },
  {
   "cell_type": "code",
   "execution_count": 8,
   "metadata": {},
   "outputs": [
    {
     "name": "stdout",
     "output_type": "stream",
     "text": [
      "1100 10\n"
     ]
    }
   ],
   "source": [
    "a=1000\n",
    "b=10\n",
    "def Y():\n",
    "    global a,b\n",
    "    a+=100\n",
    "    print(a,b)\n",
    "Y()"
   ]
  },
  {
   "cell_type": "markdown",
   "metadata": {},
   "source": [
    "## 注意：\n",
    "- global ：在进行赋值操作的时候需要声明\n",
    "- 官方解释：This is because when you make an assignment to a variable in a scope, that variable becomes local to that scope and shadows any similarly named variable in the outer scope.\n",
    "- ![](../Photo/73.png)"
   ]
  },
  {
   "cell_type": "markdown",
   "metadata": {},
   "source": [
    "## EP：\n",
    "- 定义一个邮箱加密函数，使得输入邮箱后进行ASCII码加密\n",
    "- 定义一个判断其是否为闰年的函数\n",
    "- 函数的嵌套：定义两个函数A，B，B函数接受A函数的数值并判定是否为奇数或者偶数"
   ]
  },
  {
   "cell_type": "markdown",
   "metadata": {},
   "source": [
    "# Homework\n",
    "- 1\n",
    "![](../Photo/74.png)"
   ]
  },
  {
   "cell_type": "code",
   "execution_count": 10,
   "metadata": {},
   "outputs": [
    {
     "name": "stdout",
     "output_type": "stream",
     "text": [
      "1 5 12 22 35 51 70 92 117 145 \n",
      "176 210 247 287 330 376 425 477 532 590 \n",
      "651 715 782 852 925 1001 1080 1162 1247 1335 \n",
      "1426 1520 1617 1717 1820 1926 2035 2147 2262 2380 \n",
      "2501 2625 2752 2882 3015 3151 3290 3432 3577 3725 \n",
      "3876 4030 4187 4347 4510 4676 4845 5017 5192 5370 \n",
      "5551 5735 5922 6112 6305 6501 6700 6902 7107 7315 \n",
      "7526 7740 7957 8177 8400 8626 8855 9087 9322 9560 \n",
      "9801 10045 10292 10542 10795 11051 11310 11572 11837 12105 \n",
      "12376 12650 12927 13207 13490 13776 14065 14357 14652 14950 \n"
     ]
    }
   ],
   "source": [
    "def wujiaoshu():\n",
    "    a=0\n",
    "    for i in range (1,101):\n",
    "        num=int(i*(3*i-1)/2)\n",
    "        print(num,end=' ')\n",
    "        a+=1\n",
    "        if a%10==0:\n",
    "            print()\n",
    "wujiaoshu()"
   ]
  },
  {
   "cell_type": "markdown",
   "metadata": {},
   "source": [
    "- 2 \n",
    "![](../Photo/75.png)"
   ]
  },
  {
   "cell_type": "code",
   "execution_count": 11,
   "metadata": {},
   "outputs": [],
   "source": [
    "def sumdigits(n):\n",
    "    j=0\n",
    "    num=str(n)\n",
    "    for i in num:\n",
    "        b=int(i)\n",
    "        j+=b\n",
    "    return j\n"
   ]
  },
  {
   "cell_type": "code",
   "execution_count": 12,
   "metadata": {},
   "outputs": [
    {
     "data": {
      "text/plain": [
       "9"
      ]
     },
     "execution_count": 12,
     "metadata": {},
     "output_type": "execute_result"
    }
   ],
   "source": [
    "sumdigits(234)"
   ]
  },
  {
   "cell_type": "markdown",
   "metadata": {},
   "source": [
    "- 3\n",
    "![](../Photo/76.png)"
   ]
  },
  {
   "cell_type": "code",
   "execution_count": 13,
   "metadata": {},
   "outputs": [],
   "source": [
    "def bijiao(num1,num2,num3):\n",
    "    if num1>num2 and num2>num3:\n",
    "        print(num3,num2,num1)\n",
    "    elif num1>num3 and num3>num2:\n",
    "        print(num2,num3,num1)\n",
    "    elif num1<num2 and num2<num3:\n",
    "        print(num1,num2,num3)\n",
    "    elif num1<num3 and num3<num2:\n",
    "        print(num1,num3,num2)\n",
    "    elif num3<num1 and num1<num2:\n",
    "        print(num3,num1,num2)\n",
    "    else:\n",
    "        print(num2,num1,num3)\n"
   ]
  },
  {
   "cell_type": "code",
   "execution_count": 15,
   "metadata": {},
   "outputs": [
    {
     "name": "stdout",
     "output_type": "stream",
     "text": [
      "2.4 3 5\n"
     ]
    }
   ],
   "source": [
    "bijiao(3,2.4,5)"
   ]
  },
  {
   "cell_type": "code",
   "execution_count": 16,
   "metadata": {},
   "outputs": [
    {
     "name": "stdout",
     "output_type": "stream",
     "text": [
      "12.4 15 31\n"
     ]
    }
   ],
   "source": [
    "bijiao(31,12.4,15)"
   ]
  },
  {
   "cell_type": "markdown",
   "metadata": {},
   "source": [
    "# - 4\n",
    "![](../Photo/77.png)"
   ]
  },
  {
   "cell_type": "code",
   "execution_count": 3,
   "metadata": {},
   "outputs": [
    {
     "name": "stdout",
     "output_type": "stream",
     "text": [
      "输入投资额1000\n",
      "输入年利率9\n",
      "1 1090.0\n",
      "2 1188.1000000000001\n",
      "3 1295.0290000000002\n",
      "4 1411.5816100000004\n",
      "5 1538.6239549000004\n",
      "6 1677.1001108410007\n",
      "7 1828.039120816691\n",
      "8 1992.5626416901935\n",
      "9 2171.893279442311\n",
      "10 2367.363674592119\n",
      "11 2580.42640530541\n",
      "12 2812.664781782897\n",
      "13 3065.8046121433576\n",
      "14 3341.7270272362603\n",
      "15 3642.482459687524\n",
      "16 3970.3058810594016\n",
      "17 4327.633410354748\n",
      "18 4717.120417286676\n",
      "19 5141.661254842477\n",
      "20 5604.4107677783\n",
      "21 6108.807736878347\n",
      "22 6658.6004331974\n",
      "23 7257.874472185165\n",
      "24 7911.083174681831\n",
      "25 8623.080660403197\n",
      "26 9399.157919839485\n",
      "27 10245.08213262504\n",
      "28 11167.139524561295\n",
      "29 12172.182081771813\n"
     ]
    }
   ],
   "source": [
    "touzi = int(input(\"输入投资额\"))\n",
    "rate = int(input(\"输入年利率\"))\n",
    "for year in range(1,30):\n",
    "    future=touzi*(1+ rate/100)**year\n",
    "    print(year,future)"
   ]
  },
  {
   "cell_type": "markdown",
   "metadata": {},
   "source": [
    "- 5\n",
    "![](../Photo/78.png)"
   ]
  },
  {
   "cell_type": "code",
   "execution_count": 1,
   "metadata": {},
   "outputs": [
    {
     "name": "stdout",
     "output_type": "stream",
     "text": [
      "请输入一个字母：n\n",
      "请输入一个字母：m\n",
      "请输入一个整数：7\n"
     ]
    }
   ],
   "source": [
    "def zimu(ch1,ch2,num):\n",
    "    num1=ord(ch1)\n",
    "    num2=ord(ch2)\n",
    "    num3=0\n",
    "    for i in range(num1,num2+1):\n",
    "        a=chr(i)\n",
    "        print(a,end=' ')\n",
    "        num3+=1\n",
    "        if num3%num==0:\n",
    "            print()\n",
    "ch1_=input('请输入一个字母：')\n",
    "ch2_=input('请输入一个字母：')\n",
    "num_=eval(input('请输入一个整数：'))\n",
    "zimu(ch1_,ch2_,num_)"
   ]
  },
  {
   "cell_type": "markdown",
   "metadata": {},
   "source": [
    "- 6\n",
    "![](../Photo/79.png)"
   ]
  },
  {
   "cell_type": "code",
   "execution_count": 7,
   "metadata": {},
   "outputs": [
    {
     "name": "stdout",
     "output_type": "stream",
     "text": [
      "2010年有365天\n",
      "2011年有365天\n",
      "2012年有366天\n",
      "2013年有365天\n",
      "2014年有365天\n",
      "2015年有365天\n",
      "2016年有366天\n",
      "2017年有365天\n",
      "2018年有365天\n",
      "2019年有365天\n",
      "2020年有366天\n"
     ]
    }
   ],
   "source": [
    "def tianshu(year):\n",
    "    if year%4==0 and year%100!=0 or year%400==0:\n",
    "        print('%d年有366天'%year)\n",
    "    else:\n",
    "        print('%d年有365天'%year)\n",
    "for i in range(2010,2021):\n",
    "    tianshu(i)"
   ]
  },
  {
   "cell_type": "markdown",
   "metadata": {},
   "source": [
    "- 7\n",
    "![](../Photo/80.png)"
   ]
  },
  {
   "cell_type": "code",
   "execution_count": 2,
   "metadata": {},
   "outputs": [
    {
     "name": "stdout",
     "output_type": "stream",
     "text": [
      "0,1,0,1\n"
     ]
    },
    {
     "data": {
      "text/plain": [
       "1.4142135623730951"
      ]
     },
     "execution_count": 2,
     "metadata": {},
     "output_type": "execute_result"
    }
   ],
   "source": [
    "def juli(x1,x2,y1,y2):\n",
    "    l=((x2-x1)**2+(y2-y1)**2)**(1/2)\n",
    "    return l\n",
    "x1,x2,y1,y2=eval(input())\n",
    "juli(x1,x2,y1,y2)"
   ]
  },
  {
   "cell_type": "markdown",
   "metadata": {},
   "source": [
    "- 8\n",
    "![](../Photo/81.png)"
   ]
  },
  {
   "cell_type": "code",
   "execution_count": 4,
   "metadata": {},
   "outputs": [
    {
     "name": "stdout",
     "output_type": "stream",
     "text": [
      "2 3\n",
      "3 7\n",
      "5 31\n",
      "7 127\n",
      "11 2047\n",
      "13 8191\n",
      "17 131071\n",
      "19 524287\n",
      "23 8388607\n",
      "29 536870911\n",
      "31 2147483647\n"
     ]
    }
   ],
   "source": [
    "def meisen():\n",
    "    p =2\n",
    "    for p in range(2,32):\n",
    "        j=2\n",
    "        for j in range(2,p):\n",
    "            if p%j==0:\n",
    "                break\n",
    "        else:\n",
    "            n = 2**p-1\n",
    "            print(p,n)\n",
    "meisen()"
   ]
  },
  {
   "cell_type": "markdown",
   "metadata": {},
   "source": [
    "- 9\n",
    "![](../Photo/82.png)\n",
    "![](../Photo/83.png)"
   ]
  },
  {
   "cell_type": "code",
   "execution_count": 2,
   "metadata": {},
   "outputs": [
    {
     "name": "stdout",
     "output_type": "stream",
     "text": [
      "19-05-17  13:25\n"
     ]
    }
   ],
   "source": [
    "import time\n",
    "#当前时间和日期从1970年1月1日0点开始\n",
    "time1=time.time()\n",
    "#time.localtime()将时间戳格式化为本地时间\n",
    "time2=time.localtime(time1)\n",
    "print(time.strftime('%y-%m-%d  %H:%M',time2))"
   ]
  },
  {
   "cell_type": "markdown",
   "metadata": {},
   "source": [
    "- 10\n",
    "![](../Photo/84.png)"
   ]
  },
  {
   "cell_type": "code",
   "execution_count": 5,
   "metadata": {},
   "outputs": [],
   "source": [
    "import random"
   ]
  },
  {
   "cell_type": "code",
   "execution_count": 6,
   "metadata": {},
   "outputs": [],
   "source": [
    "\n",
    "def touzhi(num1,num2):\n",
    "    print(num1,num2)\n",
    "    if num1+num2==2 or num1+num2==3 or num1+num2==12:\n",
    "        print(\"你输了\")\n",
    "    elif num1+num2==7 or num1+num2==11:\n",
    "        print('你赢了')\n",
    "    else:\n",
    "        num3=num1+num2\n",
    "        while 1:\n",
    "            num4=random.randint(1,6)\n",
    "            num5=random.randint(1,6)\n",
    "            print(num4,num5)\n",
    "            if num4+num5==7:\n",
    "                print('你输了')\n",
    "                break\n",
    "            elif num4+num5==num3:\n",
    "                print('你赢了')\n",
    "                break\n"
   ]
  },
  {
   "cell_type": "code",
   "execution_count": 8,
   "metadata": {},
   "outputs": [
    {
     "name": "stdout",
     "output_type": "stream",
     "text": [
      "2 3\n",
      "3 3\n",
      "1 5\n",
      "5 5\n",
      "2 2\n",
      "4 1\n",
      "你赢了\n"
     ]
    }
   ],
   "source": [
    "num1=random.randint(1,6)\n",
    "num2=random.randint(1,6)\n",
    "touzhi(num1,num2)"
   ]
  },
  {
   "cell_type": "markdown",
   "metadata": {},
   "source": [
    "- 11 \n",
    "### 去网上寻找如何用Python代码发送邮件 \n",
    "    - time.sleep(3)  3秒发送一次\n",
    "    - 一旦错误后，重新换一个邮箱"
   ]
  },
  {
   "cell_type": "code",
   "execution_count": null,
   "metadata": {},
   "outputs": [],
   "source": []
  }
 ],
 "metadata": {
  "kernelspec": {
   "display_name": "Python 3",
   "language": "python",
   "name": "python3"
  },
  "language_info": {
   "codemirror_mode": {
    "name": "ipython",
    "version": 3
   },
   "file_extension": ".py",
   "mimetype": "text/x-python",
   "name": "python",
   "nbconvert_exporter": "python",
   "pygments_lexer": "ipython3",
   "version": "3.7.3"
  }
 },
 "nbformat": 4,
 "nbformat_minor": 2
}
