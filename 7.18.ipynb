{
 "cells": [
  {
   "cell_type": "markdown",
   "metadata": {},
   "source": [
    "# 选择\n",
    "## 布尔类型、数值和表达式\n",
    "![](../Photo/33.png)\n",
    "- 注意：比较运算符的相等是两个等号，一个等到代表赋值\n",
    "- 在Python中可以用整型0来代表False，其他数字来代表True\n",
    "- 后面还会讲到 is 在判断语句中的用发"
   ]
  },
  {
   "cell_type": "code",
   "execution_count": 1,
   "metadata": {},
   "outputs": [
    {
     "data": {
      "text/plain": [
       "False"
      ]
     },
     "execution_count": 1,
     "metadata": {},
     "output_type": "execute_result"
    }
   ],
   "source": [
    "1 == '1'"
   ]
  },
  {
   "cell_type": "code",
   "execution_count": 2,
   "metadata": {},
   "outputs": [
    {
     "data": {
      "text/plain": [
       "True"
      ]
     },
     "execution_count": 2,
     "metadata": {},
     "output_type": "execute_result"
    }
   ],
   "source": [
    "1 != '1'"
   ]
  },
  {
   "cell_type": "code",
   "execution_count": 8,
   "metadata": {},
   "outputs": [
    {
     "data": {
      "text/plain": [
       "True"
      ]
     },
     "execution_count": 8,
     "metadata": {},
     "output_type": "execute_result"
    }
   ],
   "source": [
    "bool(1)"
   ]
  },
  {
   "cell_type": "code",
   "execution_count": 11,
   "metadata": {},
   "outputs": [
    {
     "name": "stdout",
     "output_type": "stream",
     "text": [
      "140705495749440 140705495749440\n"
     ]
    },
    {
     "data": {
      "text/plain": [
       "False"
      ]
     },
     "execution_count": 11,
     "metadata": {},
     "output_type": "execute_result"
    }
   ],
   "source": [
    "a = id(1)\n",
    "b = id(1)\n",
    "#因为a和b并不是同一个对象\n",
    "print(a,b)\n",
    "a is b"
   ]
  },
  {
   "cell_type": "code",
   "execution_count": null,
   "metadata": {},
   "outputs": [],
   "source": [
    "a = 1\n",
    "b = 2"
   ]
  },
  {
   "cell_type": "code",
   "execution_count": 9,
   "metadata": {},
   "outputs": [
    {
     "data": {
      "text/plain": [
       "True"
      ]
     },
     "execution_count": 9,
     "metadata": {},
     "output_type": "execute_result"
    }
   ],
   "source": [
    "a == b"
   ]
  },
  {
   "cell_type": "code",
   "execution_count": 10,
   "metadata": {},
   "outputs": [
    {
     "data": {
      "text/plain": [
       "False"
      ]
     },
     "execution_count": 10,
     "metadata": {},
     "output_type": "execute_result"
    }
   ],
   "source": [
    "a is b"
   ]
  },
  {
   "cell_type": "markdown",
   "metadata": {},
   "source": [
    "## 字符串的比较使用ASCII值"
   ]
  },
  {
   "cell_type": "code",
   "execution_count": 15,
   "metadata": {},
   "outputs": [
    {
     "data": {
      "text/plain": [
       "False"
      ]
     },
     "execution_count": 15,
     "metadata": {},
     "output_type": "execute_result"
    }
   ],
   "source": [
    "a = \"Joker\"\n",
    "b = \"joker\"\n",
    "a>b"
   ]
  },
  {
   "cell_type": "code",
   "execution_count": 14,
   "metadata": {},
   "outputs": [
    {
     "data": {
      "text/plain": [
       "True"
      ]
     },
     "execution_count": 14,
     "metadata": {},
     "output_type": "execute_result"
    }
   ],
   "source": [
    "a = \"joker\"\n",
    "b = \"jokar\"\n",
    "a>b"
   ]
  },
  {
   "cell_type": "markdown",
   "metadata": {},
   "source": [
    "## Markdown \n",
    "- https://github.com/younghz/Markdown"
   ]
  },
  {
   "cell_type": "code",
   "execution_count": null,
   "metadata": {},
   "outputs": [],
   "source": []
  },
  {
   "cell_type": "markdown",
   "metadata": {},
   "source": [
    "## EP:\n",
    "- <img src=\"../Photo/34.png\"></img>\n",
    "- 输入一个数字，判断其实奇数还是偶数"
   ]
  },
  {
   "cell_type": "code",
   "execution_count": 19,
   "metadata": {},
   "outputs": [
    {
     "name": "stdout",
     "output_type": "stream",
     "text": [
      "1 0\n",
      "True False\n"
     ]
    }
   ],
   "source": [
    "i = int(True)\n",
    "j = int(False)\n",
    "print(i,j)\n",
    "b1 = bool(4)\n",
    "b2 = bool(0)\n",
    "print(b1,b2)"
   ]
  },
  {
   "cell_type": "markdown",
   "metadata": {},
   "source": [
    "## 产生随机数字\n",
    "- 函数random.randint(a,b) 可以用来产生一个a和b之间且包括a和b的随机整数"
   ]
  },
  {
   "cell_type": "code",
   "execution_count": 20,
   "metadata": {},
   "outputs": [],
   "source": [
    "import random"
   ]
  },
  {
   "cell_type": "code",
   "execution_count": 23,
   "metadata": {},
   "outputs": [
    {
     "data": {
      "text/plain": [
       "1"
      ]
     },
     "execution_count": 23,
     "metadata": {},
     "output_type": "execute_result"
    }
   ],
   "source": [
    "import random\n",
    "random.randint(0,1)"
   ]
  },
  {
   "cell_type": "markdown",
   "metadata": {},
   "source": [
    "产生一个随机数，你去输入，如果你输入的数大于随机数，那么就告诉你太大了，反之，太小了，\n",
    "然后你一直输入，知道它满意为止"
   ]
  },
  {
   "cell_type": "code",
   "execution_count": 30,
   "metadata": {},
   "outputs": [
    {
     "name": "stdout",
     "output_type": "stream",
     "text": [
      "输入一个数:12\n",
      "太大了\n"
     ]
    }
   ],
   "source": [
    "import random\n",
    "number=random.randint(0,10)\n",
    "num=eval(input('输入一个数:'))\n",
    "if num>number:\n",
    "    print('太大了')\n",
    "elif num<number:\n",
    "    print('太小了')\n",
    "else:\n",
    "    print('满意')"
   ]
  },
  {
   "cell_type": "code",
   "execution_count": 31,
   "metadata": {},
   "outputs": [],
   "source": [
    "number=random.randint(0,10)"
   ]
  },
  {
   "cell_type": "code",
   "execution_count": 34,
   "metadata": {},
   "outputs": [
    {
     "name": "stdout",
     "output_type": "stream",
     "text": [
      ">>0\n",
      "太小了\n",
      ">>5\n",
      "太小了\n",
      ">>12\n",
      "太大了\n",
      ">>10\n",
      "正好\n"
     ]
    }
   ],
   "source": [
    "for i in range(5):\n",
    "    input_=eval(input('>>'))\n",
    "    if input_>number:\n",
    "        print('太大了')\n",
    "    if input_<number:\n",
    "        print('太小了')\n",
    "    if number == input_:\n",
    "        print('正好')\n",
    "        break"
   ]
  },
  {
   "cell_type": "markdown",
   "metadata": {},
   "source": [
    "##  其他random方法\n",
    "- random.random 返回0.0到1.0之间前闭后开区间的随机浮点\n",
    "- random.randrange(a,b) 前闭后开"
   ]
  },
  {
   "cell_type": "markdown",
   "metadata": {},
   "source": [
    "## EP：\n",
    "- 产生两个随机整数number1和number2，然后显示给用户，使用户输入数字的和，并判定其是否正确\n",
    "- 进阶:写一个随机序号点名程序"
   ]
  },
  {
   "cell_type": "code",
   "execution_count": 37,
   "metadata": {},
   "outputs": [
    {
     "name": "stdout",
     "output_type": "stream",
     "text": [
      "5 2\n",
      "请输入和:7\n",
      "正确\n"
     ]
    }
   ],
   "source": [
    "import random\n",
    "number1=random.randint(0,10)\n",
    "number2=random.randint(0,10)\n",
    "print(number1,number2)\n",
    "sum=eval(input('请输入和:'))\n",
    "number=number1+number2\n",
    "if sum==number:\n",
    "    print('正确')\n",
    "else:\n",
    "    print('不正确')"
   ]
  },
  {
   "cell_type": "code",
   "execution_count": 4,
   "metadata": {},
   "outputs": [
    {
     "ename": "IndentationError",
     "evalue": "unindent does not match any outer indentation level (<tokenize>, line 6)",
     "output_type": "error",
     "traceback": [
      "\u001b[1;36m  File \u001b[1;32m\"<tokenize>\"\u001b[1;36m, line \u001b[1;32m6\u001b[0m\n\u001b[1;33m    if sum==number:\u001b[0m\n\u001b[1;37m    ^\u001b[0m\n\u001b[1;31mIndentationError\u001b[0m\u001b[1;31m:\u001b[0m unindent does not match any outer indentation level\n"
     ]
    }
   ],
   "source": [
    "number_1 = random.randrange(0,10)\n",
    "number_2 = random.randrange(0,10)\n",
    "print(number_1,number_2)\n",
    "while 1:\n",
    "    number=number1+number2\n",
    "if sum==number:\n",
    "    print('正确')\n",
    "else:\n",
    "    print('不正确')"
   ]
  },
  {
   "cell_type": "markdown",
   "metadata": {},
   "source": [
    "## if语句\n",
    "- 如果条件正确就执行一个单向if语句，亦即当条件为真的时候才执行if内部的语句\n",
    "- Python有很多选择语句:\n",
    "> - 单向if \n",
    "  - 双向if-else\n",
    "  - 嵌套if\n",
    "  - 多向if-elif-else\n",
    "  \n",
    "- 注意：当语句含有子语句的时候，那么一定至少要有一个缩进，也就是说如果有儿子存在，那么一定要缩进\n",
    "- 切记不可tab键和space混用，单用tab 或者 space\n",
    "- 当你输出的结果是无论if是否为真时都需要显示时，语句应该与if对齐"
   ]
  },
  {
   "cell_type": "markdown",
   "metadata": {},
   "source": [
    "李文浩相亲"
   ]
  },
  {
   "cell_type": "code",
   "execution_count": 4,
   "metadata": {},
   "outputs": [
    {
     "name": "stdout",
     "output_type": "stream",
     "text": [
      "年轻吗[y/n]y\n"
     ]
    },
    {
     "ename": "NameError",
     "evalue": "name 'y' is not defined",
     "output_type": "error",
     "traceback": [
      "\u001b[1;31m---------------------------------------------------------------------------\u001b[0m",
      "\u001b[1;31mNameError\u001b[0m                                 Traceback (most recent call last)",
      "\u001b[1;32m<ipython-input-4-502e1fed425f>\u001b[0m in \u001b[0;36m<module>\u001b[1;34m\u001b[0m\n\u001b[0;32m      1\u001b[0m \u001b[1;32mimport\u001b[0m \u001b[0mrandom\u001b[0m\u001b[1;33m\u001b[0m\u001b[1;33m\u001b[0m\u001b[0m\n\u001b[1;32m----> 2\u001b[1;33m \u001b[0mage\u001b[0m \u001b[1;33m=\u001b[0m \u001b[0meval\u001b[0m\u001b[1;33m(\u001b[0m\u001b[0minput\u001b[0m\u001b[1;33m(\u001b[0m\u001b[1;34m'年轻吗[y/n]'\u001b[0m\u001b[1;33m)\u001b[0m\u001b[1;33m)\u001b[0m\u001b[1;33m\u001b[0m\u001b[1;33m\u001b[0m\u001b[0m\n\u001b[0m\u001b[0;32m      3\u001b[0m \u001b[1;32mif\u001b[0m \u001b[0mage\u001b[0m \u001b[1;33m==\u001b[0m \u001b[1;34m'y'\u001b[0m\u001b[1;33m:\u001b[0m\u001b[1;33m\u001b[0m\u001b[1;33m\u001b[0m\u001b[0m\n\u001b[0;32m      4\u001b[0m     \u001b[0mhandsome\u001b[0m \u001b[1;33m=\u001b[0m \u001b[0minput\u001b[0m\u001b[1;33m(\u001b[0m\u001b[1;34m'帅否[y/n]'\u001b[0m\u001b[1;33m)\u001b[0m\u001b[1;33m\u001b[0m\u001b[1;33m\u001b[0m\u001b[0m\n\u001b[0;32m      5\u001b[0m     \u001b[1;32mif\u001b[0m \u001b[0mhandsome\u001b[0m \u001b[1;33m==\u001b[0m \u001b[1;34m'y'\u001b[0m\u001b[1;33m:\u001b[0m\u001b[1;33m\u001b[0m\u001b[1;33m\u001b[0m\u001b[0m\n",
      "\u001b[1;32m<string>\u001b[0m in \u001b[0;36m<module>\u001b[1;34m\u001b[0m\n",
      "\u001b[1;31mNameError\u001b[0m: name 'y' is not defined"
     ]
    }
   ],
   "source": [
    "import random\n",
    "age = eval(input('年轻吗[y/n]'))\n",
    "if age == 'y':\n",
    "    handsome = input('帅否[y/n]')\n",
    "    if handsome == 'y':\n",
    "        wife = input('有没有老婆[y/n]')\n",
    "        if wife == 'y':\n",
    "            print('回家的诱惑')\n",
    "        else:\n",
    "            print('马上结婚')\n",
    "    else:\n",
    "        print('考虑一下')\n",
    "else:\n",
    "    print('拜拜')"
   ]
  },
  {
   "cell_type": "markdown",
   "metadata": {},
   "source": [
    "## EP：\n",
    "- 用户输入一个数字，判断其实奇数还是偶数\n",
    "- 进阶：可以查看下4.5实例研究猜生日"
   ]
  },
  {
   "cell_type": "markdown",
   "metadata": {},
   "source": [
    "## 双向if-else 语句\n",
    "- 如果条件为真，那么走if内部语句，否则走else内部语句"
   ]
  },
  {
   "cell_type": "markdown",
   "metadata": {},
   "source": [
    "## EP：\n",
    "- 产生两个随机整数number1和number2，然后显示给用户，使用户输入数字，并判定其是否正确,如果正确打印“you‘re correct”，否则打印正确错误"
   ]
  },
  {
   "cell_type": "markdown",
   "metadata": {},
   "source": [
    "## 嵌套if 和多向if-elif-else\n",
    "![](../Photo/35.png)"
   ]
  },
  {
   "cell_type": "markdown",
   "metadata": {},
   "source": [
    "## EP：\n",
    "- 提示用户输入一个年份，然后显示表示这一年的动物\n",
    "![](../Photo/36.png)\n",
    "- 计算身体质量指数的程序\n",
    "- BMI = 以千克为单位的体重除以以米为单位的身高的平方\n",
    "![](../Photo/37.png)"
   ]
  },
  {
   "cell_type": "code",
   "execution_count": 12,
   "metadata": {},
   "outputs": [
    {
     "name": "stdout",
     "output_type": "stream",
     "text": [
      "输入以千克为单位的体重:65\n",
      "输入以米为单位的身高:1.68\n",
      "标准\n"
     ]
    }
   ],
   "source": [
    "weigh = eval(input('输入以千克为单位的体重:'))\n",
    "high = eval(input('输入以米为单位的身高:'))\n",
    "BMI = weigh/(high*high)\n",
    "if BMI<18.5:\n",
    "    print('超轻')\n",
    "elif 18.5<=BMI<25:\n",
    "    print('标准')\n",
    "elif 25<=BMI<30:\n",
    "    print('超重')\n",
    "else:\n",
    "    print('痴肥')"
   ]
  },
  {
   "cell_type": "code",
   "execution_count": 8,
   "metadata": {},
   "outputs": [
    {
     "name": "stdout",
     "output_type": "stream",
     "text": [
      "输入一个年份:1998\n",
      "🐱\n"
     ]
    }
   ],
   "source": [
    "year = eval(input('输入一个年份:'))\n",
    "if year%12 == 0:\n",
    "    res=\"🐵\"\n",
    "elif year%12 == 1:\n",
    "    res=\"🐓\"\n",
    "elif year%12 == 2:\n",
    "    res=\"🐶\"\n",
    "elif year%12 == 3:\n",
    "    res=\"🐷\"\n",
    "elif year%12 == 4:\n",
    "    res=\"🐗\"\n",
    "elif year%12 == 5:\n",
    "    res=\"🐮\"\n",
    "elif year%12 == 6:\n",
    "    res=\"🐱\"\n",
    "elif year%12 == 7:\n",
    "    res=\"🐰\"\n",
    "elif year%12 == 8:\n",
    "    res=\"🐉\"\n",
    "elif year%12 == 9:\n",
    "    res=\"🐍\"\n",
    "elif year%12 == 10:\n",
    "    res=\"🐴\"\n",
    "elif year%12 == 11:\n",
    "    res=\"🐐\"\n",
    "print(res)"
   ]
  },
  {
   "cell_type": "markdown",
   "metadata": {},
   "source": [
    "## 逻辑运算符\n",
    "![](../Photo/38.png)"
   ]
  },
  {
   "cell_type": "markdown",
   "metadata": {},
   "source": [
    "![](../Photo/39.png)\n",
    "![](../Photo/40.png)"
   ]
  },
  {
   "cell_type": "markdown",
   "metadata": {},
   "source": [
    "## EP：\n",
    "- 判定闰年：一个年份如果能被4整除但不能被100整除，或者能被400整除，那么这个年份就是闰年\n",
    "- 提示用户输入一个年份，并返回是否是闰年\n",
    "- 提示用户输入一个数字，判断其是否为水仙花数"
   ]
  },
  {
   "cell_type": "code",
   "execution_count": 19,
   "metadata": {},
   "outputs": [
    {
     "name": "stdout",
     "output_type": "stream",
     "text": [
      "输入一个年份:1998\n",
      "平年\n"
     ]
    }
   ],
   "source": [
    "year = eval(input('输入一个年份:'))\n",
    "if year%4==0 and year%100!=0 or year%400==0:\n",
    "    print('闰年')\n",
    "else:\n",
    "    print('平年')"
   ]
  },
  {
   "cell_type": "code",
   "execution_count": 18,
   "metadata": {},
   "outputs": [
    {
     "name": "stdout",
     "output_type": "stream",
     "text": [
      "输入一个年份:1998\n",
      "是\n"
     ]
    }
   ],
   "source": [
    "year = eval(input('输入一个年份:'))\n",
    "if year%4==0 and year%100!=0 or year%400==0:\n",
    "    print('是')\n",
    "else:\n",
    "    print('否')"
   ]
  },
  {
   "cell_type": "code",
   "execution_count": 20,
   "metadata": {},
   "outputs": [
    {
     "name": "stdout",
     "output_type": "stream",
     "text": [
      "输入一个数:153\n",
      "水仙花\n"
     ]
    }
   ],
   "source": [
    "num = eval(input('输入一个数:'))\n",
    "\n",
    "bai = num//100\n",
    "shi = num//10%10\n",
    "ge = num%10\n",
    "\n",
    "if bai**3+shi**3+ge**3==num:\n",
    "    print('水仙花')\n",
    "else:\n",
    "    print('不是水仙花')"
   ]
  },
  {
   "cell_type": "markdown",
   "metadata": {},
   "source": [
    "## 实例研究：彩票\n",
    "![](../Photo/41.png)"
   ]
  },
  {
   "cell_type": "code",
   "execution_count": 8,
   "metadata": {},
   "outputs": [
    {
     "name": "stdout",
     "output_type": "stream",
     "text": [
      "6 1\n",
      "输入一个数:6\n",
      "输入一个数:1\n",
      "奖金为10000美元\n"
     ]
    }
   ],
   "source": [
    "import random\n",
    "x1 = random.randint(0,9)\n",
    "x2 = random.randint(0,9)\n",
    "print(x1,x2)\n",
    "y1 = eval(input('输入一个数:'))\n",
    "y2 = eval(input('输入一个数:'))\n",
    "if x1==y1 and x2==y2:\n",
    "    print('奖金为10000美元')\n",
    "elif x1==y2 and x2==y1:\n",
    "    print('奖金为3000美元')\n",
    "elif x1==y1 and x2!=y2 or x1==y2 and x2!=y1 or x1!=y1 and x2==y2 or x1!=y2 and x2==y1:\n",
    "    print('奖金为1000美元')\n"
   ]
  },
  {
   "cell_type": "code",
   "execution_count": 7,
   "metadata": {},
   "outputs": [
    {
     "name": "stdout",
     "output_type": "stream",
     "text": [
      "11\n",
      ">>11\n",
      "10000\n"
     ]
    }
   ],
   "source": [
    "import random\n",
    "num = random.randint(10,99)\n",
    "print(num)\n",
    "N = input('>>')\n",
    "num_shi = num//10\n",
    "num_ge = num%10\n",
    "\n",
    "if N[0] == '0':\n",
    "    N_shi = 0\n",
    "else:\n",
    "    N_shi = int(N)//10\n",
    "    N_ge = int(N)%10\n",
    "    \n",
    "if num == int (N):\n",
    "    print('10000')\n",
    "elif num_shi+num_ge == N_shi +N_ge:\n",
    "    print('3000')\n",
    "elif (num_ge==N_ge or num_ge==N_shi) and (num_shi==N_shi or num_shi==N_ge):\n",
    "    print('1000')"
   ]
  },
  {
   "cell_type": "markdown",
   "metadata": {},
   "source": [
    "# Homework\n",
    "- 1\n",
    "![](../Photo/42.png)"
   ]
  },
  {
   "cell_type": "code",
   "execution_count": 2,
   "metadata": {},
   "outputs": [
    {
     "name": "stdout",
     "output_type": "stream",
     "text": [
      "a,b,c1.0,3,1\n",
      "roots are -0.3819660112501051 and -2.618033988749895\n"
     ]
    }
   ],
   "source": [
    "a,b,c=eval(input('a,b,c'))\n",
    "d=b**2-4*a*c\n",
    "if d>0:\n",
    "    x1=(-b+d**(1/2))/2*a\n",
    "    x2=(-b-d**(1/2))/2*a\n",
    "    print('roots are',x1,'and',x2)\n",
    "elif d==0:\n",
    "    x=(-b)/2*a\n",
    "    print('root is',x)\n",
    "else:\n",
    "    print('the equation has no real roots')"
   ]
  },
  {
   "cell_type": "markdown",
   "metadata": {},
   "source": [
    "- 2\n",
    "![](../Photo/43.png)"
   ]
  },
  {
   "cell_type": "code",
   "execution_count": 4,
   "metadata": {},
   "outputs": [
    {
     "name": "stdout",
     "output_type": "stream",
     "text": [
      "138\n",
      "请输入一个整数138\n",
      "ture\n"
     ]
    }
   ],
   "source": [
    "import random\n",
    "num1=random.randint(0,100)\n",
    "num2=random.randint(0,100)\n",
    "num=num1+num2\n",
    "print(num)\n",
    "num_=eval(input('请输入一个整数'))\n",
    "if num_==num:\n",
    "    print('ture')\n",
    "else:\n",
    "    print('false')"
   ]
  },
  {
   "cell_type": "markdown",
   "metadata": {},
   "source": [
    "- 3\n",
    "![](../Photo/44.png)"
   ]
  },
  {
   "cell_type": "code",
   "execution_count": 5,
   "metadata": {},
   "outputs": [
    {
     "name": "stdout",
     "output_type": "stream",
     "text": [
      "请输入今天星期几1\n",
      "请输入几天后3\n",
      "星期4\n"
     ]
    }
   ],
   "source": [
    "today=eval(input('请输入今天星期几'))\n",
    "day=eval(input('请输入几天后'))\n",
    "week=(today+day)%7\n",
    "print('星期',week,sep=\"\")"
   ]
  },
  {
   "cell_type": "markdown",
   "metadata": {},
   "source": [
    "- 4\n",
    "![](../Photo/45.png)"
   ]
  },
  {
   "cell_type": "code",
   "execution_count": 6,
   "metadata": {},
   "outputs": [
    {
     "name": "stdout",
     "output_type": "stream",
     "text": [
      "请输入三个数1,3,4\n",
      "1 3 4\n"
     ]
    }
   ],
   "source": [
    "a,b,c=eval(input('请输入三个数'))\n",
    "if a>=b:\n",
    "    if b>=c:\n",
    "        print(c,b,a)\n",
    "    elif a>=c:\n",
    "        print(b,c,a)\n",
    "    else:\n",
    "        print(b,a,c)\n",
    "elif b<=c:\n",
    "    print(a,b,c)\n",
    "elif a>=c:\n",
    "    print(c,a,b)\n",
    "else:\n",
    "    print(a,c,b)"
   ]
  },
  {
   "cell_type": "markdown",
   "metadata": {},
   "source": [
    "- 5\n",
    "![](../Photo/46.png)"
   ]
  },
  {
   "cell_type": "code",
   "execution_count": 10,
   "metadata": {},
   "outputs": [
    {
     "name": "stdout",
     "output_type": "stream",
     "text": [
      "重量和价钱50,24.59\n",
      "重量和价钱25,11.99\n",
      "baozhuang2\n"
     ]
    }
   ],
   "source": [
    "weight1,price1=eval(input('重量和价钱'))\n",
    "weight2,price2=eval(input('重量和价钱'))\n",
    "danjia1=price1/weight1\n",
    "danjia2=price2/weight2\n",
    "if danjia1>danjia2:\n",
    "    print('baozhuang2')\n",
    "elif danjia1>danjia2:\n",
    "    print('baozhuang1')\n",
    "else:\n",
    "    print('都可以')"
   ]
  },
  {
   "cell_type": "raw",
   "metadata": {},
   "source": [
    "- 6\n",
    "![](../Photo/47.png)"
   ]
  },
  {
   "cell_type": "code",
   "execution_count": 1,
   "metadata": {},
   "outputs": [
    {
     "name": "stdout",
     "output_type": "stream",
     "text": [
      "请输入年和月1998,6\n",
      "1998 年 6 有30天\n"
     ]
    }
   ],
   "source": [
    "year,yue=eval(input('请输入年和月'))\n",
    "if (year%4==0 and year%100!=0) or year%400==0:\n",
    "    if yue==2:\n",
    "        print(year,'年',yue,'有29天')\n",
    "    elif yue%2==1:\n",
    "        print(year,'年',yue,'有31天')\n",
    "    else:\n",
    "        print(year,'年',yue,'有30天')\n",
    "else:\n",
    "    if yue==2:\n",
    "        print(year,'年',yue,'有28天')\n",
    "    elif yue%2==1:\n",
    "        print(year,'年',yue,'有31天')\n",
    "    else:\n",
    "        print(year,'年',yue,'有30天')"
   ]
  },
  {
   "cell_type": "markdown",
   "metadata": {},
   "source": [
    "- 7\n",
    "![](../Photo/48.png)"
   ]
  },
  {
   "cell_type": "code",
   "execution_count": 3,
   "metadata": {},
   "outputs": [
    {
     "name": "stdout",
     "output_type": "stream",
     "text": [
      "0为正面，1为反面:0\n",
      "错误\n"
     ]
    }
   ],
   "source": [
    "import random\n",
    "yingbi=random.randint(0,1)\n",
    "xianshi=eval(input('0为正面，1为反面:'))\n",
    "if xianshi==yingbi:\n",
    "    print('正确')\n",
    "else:\n",
    "    print('错误')"
   ]
  },
  {
   "cell_type": "markdown",
   "metadata": {},
   "source": [
    "- 8\n",
    "![](../Photo/49.png)"
   ]
  },
  {
   "cell_type": "code",
   "execution_count": 4,
   "metadata": {},
   "outputs": [
    {
     "name": "stdout",
     "output_type": "stream",
     "text": [
      "0\n",
      "剪刀0，石头1，布2:1\n",
      "you win\n"
     ]
    }
   ],
   "source": [
    "import random\n",
    "I=random.randint(0,2)\n",
    "print(I)\n",
    "you=eval(input('剪刀0，石头1，布2:'))\n",
    "if you==I:\n",
    "    print('平局')\n",
    "elif I==0 and you==2:\n",
    "    print('it is a game')\n",
    "elif I==2 and you==0:\n",
    "    print('you win')\n",
    "elif I>you:\n",
    "    print('it is a game')\n",
    "else:\n",
    "    print('you win')"
   ]
  },
  {
   "cell_type": "markdown",
   "metadata": {},
   "source": [
    "- 9\n",
    "![](../Photo/50.png)"
   ]
  },
  {
   "cell_type": "code",
   "execution_count": 5,
   "metadata": {},
   "outputs": [
    {
     "name": "stdout",
     "output_type": "stream",
     "text": [
      "请输入年份2012\n",
      "请输入月份12\n",
      "请输入天12\n",
      "星期3\n"
     ]
    }
   ],
   "source": [
    "year=eval(input('请输入年份'))\n",
    "month=eval(input('请输入月份'))\n",
    "day=eval(input('请输入天'))\n",
    "if month<3:\n",
    "    year=year-1\n",
    "    month=month+12\n",
    "j=year//100\n",
    "k=year%100\n",
    "a=(26*(month+1)//10)+k\n",
    "b=k//4+j//4+5*j\n",
    "h=(day+a+b-1)%7\n",
    "print('星期',h,sep='')"
   ]
  },
  {
   "cell_type": "markdown",
   "metadata": {},
   "source": [
    "- 10\n",
    "![](../Photo/51.png)"
   ]
  },
  {
   "cell_type": "code",
   "execution_count": 6,
   "metadata": {},
   "outputs": [
    {
     "name": "stdout",
     "output_type": "stream",
     "text": [
      "梅花6\n"
     ]
    }
   ],
   "source": [
    "import random\n",
    "daxiao=random.randint(1,13)\n",
    "huase=random.randint(1,4)\n",
    "if daxiao==1:\n",
    "    daxiao='A'\n",
    "elif daxiao==11:\n",
    "    daxiao='J'\n",
    "elif daxiao==12:\n",
    "    daxiao='Q'\n",
    "elif daxiao==13:\n",
    "    daxiao='K'\n",
    "if huase==1:\n",
    "    huase='梅花'\n",
    "elif huase==2:\n",
    "    huase='红桃'\n",
    "elif huase==3:\n",
    "    huase='方块'\n",
    "elif huase==4:\n",
    "    huase='黑桃'\n",
    "print(huase,daxiao,sep='')"
   ]
  },
  {
   "cell_type": "markdown",
   "metadata": {},
   "source": [
    "- 11\n",
    "![](../Photo/52.png)"
   ]
  },
  {
   "cell_type": "code",
   "execution_count": 7,
   "metadata": {},
   "outputs": [
    {
     "name": "stdout",
     "output_type": "stream",
     "text": [
      "请输入一个三位数121\n",
      "121 这是一个回文数\n"
     ]
    }
   ],
   "source": [
    "number=eval(input('请输入一个三位数'))\n",
    "if number%10==number//100:\n",
    "    print(number,'这是一个回文数')\n",
    "else:\n",
    "    print(number,'这不是一个回文数')"
   ]
  },
  {
   "cell_type": "markdown",
   "metadata": {},
   "source": [
    "- 12\n",
    "![](../Photo/53.png)"
   ]
  },
  {
   "cell_type": "code",
   "execution_count": 4,
   "metadata": {},
   "outputs": [
    {
     "name": "stdout",
     "output_type": "stream",
     "text": [
      "请输入三角形三边长：1,1,1\n",
      "3\n"
     ]
    }
   ],
   "source": [
    "a,b,c=eval(input('请输入三角形三边长：'))\n",
    "if (a+b)>c and (a+c)>b and (b+c)>a:\n",
    "    zhouchang=a+b+c\n",
    "    print(zhouchang)\n",
    "else:\n",
    "    print('不是三角形')"
   ]
  },
  {
   "cell_type": "code",
   "execution_count": null,
   "metadata": {},
   "outputs": [],
   "source": []
  }
 ],
 "metadata": {
  "kernelspec": {
   "display_name": "Python 3",
   "language": "python",
   "name": "python3"
  },
  "language_info": {
   "codemirror_mode": {
    "name": "ipython",
    "version": 3
   },
   "file_extension": ".py",
   "mimetype": "text/x-python",
   "name": "python",
   "nbconvert_exporter": "python",
   "pygments_lexer": "ipython3",
   "version": "3.7.3"
  }
 },
 "nbformat": 4,
 "nbformat_minor": 2
}
