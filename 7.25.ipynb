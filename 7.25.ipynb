{
 "cells": [
  {
   "cell_type": "markdown",
   "metadata": {},
   "source": [
    "# 列表List\n",
    "- 一个列表可以储存任意大小的数据集合，你可以理解为他是一个容器"
   ]
  },
  {
   "cell_type": "code",
   "execution_count": 2,
   "metadata": {},
   "outputs": [
    {
     "data": {
      "text/plain": [
       "[]"
      ]
     },
     "execution_count": 2,
     "metadata": {},
     "output_type": "execute_result"
    }
   ],
   "source": [
    "a = []#列表\n",
    "a"
   ]
  },
  {
   "cell_type": "code",
   "execution_count": 6,
   "metadata": {},
   "outputs": [
    {
     "data": {
      "text/plain": [
       "[1, 2, 3, 'a', [1, 2], 'b']"
      ]
     },
     "execution_count": 6,
     "metadata": {},
     "output_type": "execute_result"
    }
   ],
   "source": [
    "a = [1,2,3,'a',[1,2],'b']\n",
    "a"
   ]
  },
  {
   "cell_type": "markdown",
   "metadata": {},
   "source": [
    "## 先来一个例子爽一爽\n",
    "![](../Photo/115.png)"
   ]
  },
  {
   "cell_type": "markdown",
   "metadata": {},
   "source": [
    "## 创建一个列表\n",
    "- a = [1,2,3,4,5]"
   ]
  },
  {
   "cell_type": "code",
   "execution_count": 7,
   "metadata": {
    "scrolled": true
   },
   "outputs": [
    {
     "data": {
      "text/plain": [
       "[[1, 2], [3, 4]]"
      ]
     },
     "execution_count": 7,
     "metadata": {},
     "output_type": "execute_result"
    }
   ],
   "source": [
    "a = [[1,2],[3,4]]\n",
    "a"
   ]
  },
  {
   "cell_type": "code",
   "execution_count": 9,
   "metadata": {},
   "outputs": [],
   "source": [
    "import numpy as np"
   ]
  },
  {
   "cell_type": "code",
   "execution_count": 10,
   "metadata": {},
   "outputs": [
    {
     "data": {
      "text/plain": [
       "array([[1, 2],\n",
       "       [3, 4]])"
      ]
     },
     "execution_count": 10,
     "metadata": {},
     "output_type": "execute_result"
    }
   ],
   "source": [
    "\n",
    "a = [[1,2],[3,4]]\n",
    "np.array(a)"
   ]
  },
  {
   "cell_type": "markdown",
   "metadata": {},
   "source": [
    "## 列表的一般操作\n",
    "![](../Photo/116.png)"
   ]
  },
  {
   "cell_type": "code",
   "execution_count": 1,
   "metadata": {},
   "outputs": [
    {
     "data": {
      "text/plain": [
       "1"
      ]
     },
     "execution_count": 1,
     "metadata": {},
     "output_type": "execute_result"
    }
   ],
   "source": [
    "a=[1,2,3]\n",
    "min(a)"
   ]
  },
  {
   "cell_type": "code",
   "execution_count": 2,
   "metadata": {},
   "outputs": [
    {
     "data": {
      "text/plain": [
       "3"
      ]
     },
     "execution_count": 2,
     "metadata": {},
     "output_type": "execute_result"
    }
   ],
   "source": [
    "a=[1,2,3]\n",
    "max(a)"
   ]
  },
  {
   "cell_type": "code",
   "execution_count": 3,
   "metadata": {},
   "outputs": [
    {
     "data": {
      "text/plain": [
       "6"
      ]
     },
     "execution_count": 3,
     "metadata": {},
     "output_type": "execute_result"
    }
   ],
   "source": [
    "a=[1,2,3]\n",
    "sum(a)"
   ]
  },
  {
   "cell_type": "code",
   "execution_count": 4,
   "metadata": {},
   "outputs": [
    {
     "name": "stdout",
     "output_type": "stream",
     "text": [
      "1\n",
      "2\n",
      "3\n"
     ]
    }
   ],
   "source": [
    "a=[1,2,3]\n",
    "for i in a:\n",
    "    print(i)"
   ]
  },
  {
   "cell_type": "code",
   "execution_count": 11,
   "metadata": {},
   "outputs": [
    {
     "data": {
      "text/plain": [
       "True"
      ]
     },
     "execution_count": 11,
     "metadata": {},
     "output_type": "execute_result"
    }
   ],
   "source": [
    "a='stella'\n",
    "b='st'\n",
    "b in a"
   ]
  },
  {
   "cell_type": "code",
   "execution_count": 14,
   "metadata": {},
   "outputs": [
    {
     "data": {
      "text/plain": [
       "False"
      ]
     },
     "execution_count": 14,
     "metadata": {},
     "output_type": "execute_result"
    }
   ],
   "source": [
    "a=[1,2,3,'stella',1.2]\n",
    "b='st'\n",
    "b in a"
   ]
  },
  {
   "cell_type": "code",
   "execution_count": 15,
   "metadata": {},
   "outputs": [
    {
     "data": {
      "text/plain": [
       "True"
      ]
     },
     "execution_count": 15,
     "metadata": {},
     "output_type": "execute_result"
    }
   ],
   "source": [
    "a=[1,2,3,'stella',1.2]\n",
    "b='st'\n",
    "b not in a"
   ]
  },
  {
   "cell_type": "code",
   "execution_count": 16,
   "metadata": {},
   "outputs": [
    {
     "data": {
      "text/plain": [
       "[1, 2]"
      ]
     },
     "execution_count": 16,
     "metadata": {},
     "output_type": "execute_result"
    }
   ],
   "source": [
    "#列表不能相减，不能相除。只能相加，相乘。\n",
    "a=[1]\n",
    "b=[2]\n",
    "a+b"
   ]
  },
  {
   "cell_type": "code",
   "execution_count": 17,
   "metadata": {},
   "outputs": [
    {
     "data": {
      "text/plain": [
       "[2, 1]"
      ]
     },
     "execution_count": 17,
     "metadata": {},
     "output_type": "execute_result"
    }
   ],
   "source": [
    "a=[1]\n",
    "b=[2]\n",
    "b+a"
   ]
  },
  {
   "cell_type": "code",
   "execution_count": 24,
   "metadata": {},
   "outputs": [
    {
     "data": {
      "text/plain": [
       "[1, 1, 1, 1, 1]"
      ]
     },
     "execution_count": 24,
     "metadata": {},
     "output_type": "execute_result"
    }
   ],
   "source": [
    "a=[1]\n",
    "b=5\n",
    "a*b"
   ]
  },
  {
   "cell_type": "code",
   "execution_count": 21,
   "metadata": {},
   "outputs": [
    {
     "data": {
      "text/plain": [
       "3"
      ]
     },
     "execution_count": 21,
     "metadata": {},
     "output_type": "execute_result"
    }
   ],
   "source": [
    "a=[1,2,3,4,5]\n",
    "a[2]\n"
   ]
  },
  {
   "cell_type": "code",
   "execution_count": 27,
   "metadata": {},
   "outputs": [
    {
     "data": {
      "text/plain": [
       "[5, 4, 2]"
      ]
     },
     "execution_count": 27,
     "metadata": {},
     "output_type": "execute_result"
    }
   ],
   "source": [
    "a=[1,2,4,5]\n",
    "a[3:0:-1]\n"
   ]
  },
  {
   "cell_type": "code",
   "execution_count": 28,
   "metadata": {},
   "outputs": [
    {
     "data": {
      "text/plain": [
       "[1, 4]"
      ]
     },
     "execution_count": 28,
     "metadata": {},
     "output_type": "execute_result"
    }
   ],
   "source": [
    "a = [1,2,4,5]\n",
    "a[::2]"
   ]
  },
  {
   "cell_type": "code",
   "execution_count": 29,
   "metadata": {},
   "outputs": [
    {
     "data": {
      "text/plain": [
       "[1, 2, 4]"
      ]
     },
     "execution_count": 29,
     "metadata": {},
     "output_type": "execute_result"
    }
   ],
   "source": [
    "a = [1,2,4,5]\n",
    "a[0:3]"
   ]
  },
  {
   "cell_type": "code",
   "execution_count": 30,
   "metadata": {},
   "outputs": [
    {
     "data": {
      "text/plain": [
       "4"
      ]
     },
     "execution_count": 30,
     "metadata": {},
     "output_type": "execute_result"
    }
   ],
   "source": [
    "a = [1,2,4,5,[100,200,300]]\n",
    "a[0:4][2]"
   ]
  },
  {
   "cell_type": "code",
   "execution_count": 31,
   "metadata": {},
   "outputs": [
    {
     "data": {
      "text/plain": [
       "300"
      ]
     },
     "execution_count": 31,
     "metadata": {},
     "output_type": "execute_result"
    }
   ],
   "source": [
    "a = [1,2,4,5,[100,200,300]]\n",
    "a[4][2]"
   ]
  },
  {
   "cell_type": "code",
   "execution_count": null,
   "metadata": {},
   "outputs": [],
   "source": [
    "for i in range(0,4):\n",
    "    if i == 0 or i == 3:\n",
    "        print('*'*5)\n",
    "    else:\n",
    "        print('*'+' '*3+'*')"
   ]
  },
  {
   "cell_type": "code",
   "execution_count": 37,
   "metadata": {},
   "outputs": [
    {
     "ename": "IndentationError",
     "evalue": "unexpected indent (<ipython-input-37-083673117670>, line 9)",
     "output_type": "error",
     "traceback": [
      "\u001b[1;36m  File \u001b[1;32m\"<ipython-input-37-083673117670>\"\u001b[1;36m, line \u001b[1;32m9\u001b[0m\n\u001b[1;33m    if b=i[0:2][0][0:2]:\u001b[0m\n\u001b[1;37m    ^\u001b[0m\n\u001b[1;31mIndentationError\u001b[0m\u001b[1;31m:\u001b[0m unexpected indent\n"
     ]
    }
   ],
   "source": [
    "for i in range(0,3):\n",
    "    if i == 0:\n",
    "        print([123])\n",
    "    elif i ==1:\n",
    "        print([456])\n",
    "    elif i ==2:\n",
    "        print([789])\n",
    "        for i in range(0,3):\n",
    "            if b=i[0:2][0][0:2]:\n",
    "                print(b)\n",
    "            elif c=a[0:2][1][0:2]:\n",
    "                print(c)\n",
    "                "
   ]
  },
  {
   "cell_type": "code",
   "execution_count": 40,
   "metadata": {},
   "outputs": [
    {
     "name": "stdout",
     "output_type": "stream",
     "text": [
      "0 2 0 2\n",
      "0 2 1 3\n",
      "1 3 0 2\n",
      "1 3 1 3\n"
     ]
    }
   ],
   "source": [
    "for i in range(2):\n",
    "    for j in range(2):\n",
    "        print(i,i+2,j,j+2)"
   ]
  },
  {
   "cell_type": "code",
   "execution_count": 41,
   "metadata": {},
   "outputs": [
    {
     "data": {
      "text/plain": [
       "array([[1, 2, 3],\n",
       "       [4, 5, 6],\n",
       "       [7, 8, 9]])"
      ]
     },
     "execution_count": 41,
     "metadata": {},
     "output_type": "execute_result"
    }
   ],
   "source": [
    "a = [[1,2,3],[4,5,6],[7,8,9]]\n",
    "aa=np.array(a)\n",
    "aa"
   ]
  },
  {
   "cell_type": "code",
   "execution_count": 42,
   "metadata": {},
   "outputs": [
    {
     "data": {
      "text/plain": [
       "array([[1, 2],\n",
       "       [4, 5]])"
      ]
     },
     "execution_count": 42,
     "metadata": {},
     "output_type": "execute_result"
    }
   ],
   "source": [
    "aa[0:2,0:2]"
   ]
  },
  {
   "cell_type": "code",
   "execution_count": 43,
   "metadata": {},
   "outputs": [
    {
     "name": "stdout",
     "output_type": "stream",
     "text": [
      "[1, 2]\n",
      "[4, 5]\n",
      "----------\n",
      "[2, 3]\n",
      "[5, 6]\n",
      "----------\n",
      "[4, 5]\n",
      "[7, 8]\n",
      "----------\n",
      "[5, 6]\n",
      "[8, 9]\n",
      "----------\n"
     ]
    }
   ],
   "source": [
    "for i in range(2):\n",
    "    for j in range(2):\n",
    "        print(a[i][j:j+2])\n",
    "        print(a[i+1][j:j+2])\n",
    "        print('----------')"
   ]
  },
  {
   "cell_type": "code",
   "execution_count": 44,
   "metadata": {
    "scrolled": true
   },
   "outputs": [
    {
     "data": {
      "text/plain": [
       "4"
      ]
     },
     "execution_count": 44,
     "metadata": {},
     "output_type": "execute_result"
    }
   ],
   "source": [
    "a = [1,2,3,[1,2,3]]\n",
    "len(a)"
   ]
  },
  {
   "cell_type": "code",
   "execution_count": 53,
   "metadata": {},
   "outputs": [
    {
     "ename": "IndexError",
     "evalue": "list index out of range",
     "output_type": "error",
     "traceback": [
      "\u001b[1;31m---------------------------------------------------------------------------\u001b[0m",
      "\u001b[1;31mIndexError\u001b[0m                                Traceback (most recent call last)",
      "\u001b[1;32m<ipython-input-53-579db33387e6>\u001b[0m in \u001b[0;36m<module>\u001b[1;34m\u001b[0m\n\u001b[0;32m      1\u001b[0m \u001b[0ma\u001b[0m \u001b[1;33m=\u001b[0m \u001b[1;33m[\u001b[0m\u001b[1;36m1\u001b[0m\u001b[1;33m,\u001b[0m\u001b[1;36m2\u001b[0m\u001b[1;33m,\u001b[0m\u001b[1;36m3\u001b[0m\u001b[1;33m,\u001b[0m\u001b[1;33m[\u001b[0m\u001b[1;36m1\u001b[0m\u001b[1;33m,\u001b[0m\u001b[1;36m2\u001b[0m\u001b[1;33m,\u001b[0m\u001b[1;36m3\u001b[0m\u001b[1;33m]\u001b[0m\u001b[1;33m]\u001b[0m\u001b[1;33m\u001b[0m\u001b[1;33m\u001b[0m\u001b[0m\n\u001b[1;32m----> 2\u001b[1;33m \u001b[0ma\u001b[0m\u001b[1;33m[\u001b[0m\u001b[1;36m4\u001b[0m\u001b[1;33m]\u001b[0m\u001b[1;33m\u001b[0m\u001b[1;33m\u001b[0m\u001b[0m\n\u001b[0m",
      "\u001b[1;31mIndexError\u001b[0m: list index out of range"
     ]
    }
   ],
   "source": [
    "a = [1,2,3,[1,2,3]]\n",
    "a[4]"
   ]
  },
  {
   "cell_type": "markdown",
   "metadata": {},
   "source": [
    "# 列表索引操作\n",
    "- Mylist[index]\n",
    "- 正序索引，逆序索引\n",
    "- 列表一定注意越界\n",
    "- ![](../Photo/117.png)"
   ]
  },
  {
   "cell_type": "markdown",
   "metadata": {},
   "source": [
    "## 列表切片操作\n",
    "- Mylist[start:end]\n",
    "- 正序切片，逆序切片"
   ]
  },
  {
   "cell_type": "markdown",
   "metadata": {},
   "source": [
    "## 列表 +、*、in 、not in"
   ]
  },
  {
   "cell_type": "markdown",
   "metadata": {},
   "source": [
    "## 使用for循环遍历元素\n",
    "- for 循环可以遍历一切可迭代元素"
   ]
  },
  {
   "cell_type": "markdown",
   "metadata": {},
   "source": [
    "## EP：\n",
    "- 使用while 循环遍历列表"
   ]
  },
  {
   "cell_type": "code",
   "execution_count": 5,
   "metadata": {},
   "outputs": [
    {
     "name": "stdout",
     "output_type": "stream",
     "text": [
      "1\n",
      "2\n",
      "3\n",
      "4\n",
      "5\n"
     ]
    }
   ],
   "source": [
    "bb=[1,2,3,4,5]\n",
    "for i in bb:\n",
    "    print(i)"
   ]
  },
  {
   "cell_type": "code",
   "execution_count": 4,
   "metadata": {},
   "outputs": [
    {
     "name": "stdout",
     "output_type": "stream",
     "text": [
      "1\n",
      "2\n",
      "3\n",
      "4\n",
      "5\n"
     ]
    }
   ],
   "source": [
    "i=0\n",
    "while i<len(bb):\n",
    "    print(bb[i])\n",
    "    i+=1"
   ]
  },
  {
   "cell_type": "markdown",
   "metadata": {},
   "source": [
    "## 列表的比较\n",
    "- \\>,<,>=,<=,==,!="
   ]
  },
  {
   "cell_type": "markdown",
   "metadata": {},
   "source": [
    "## 列表生成式\n",
    "[x for x in range(10)]"
   ]
  },
  {
   "cell_type": "code",
   "execution_count": 5,
   "metadata": {},
   "outputs": [
    {
     "data": {
      "text/plain": [
       "[0, 1, 2, 3, 4, 5, 6, 7, 8, 9]"
      ]
     },
     "execution_count": 5,
     "metadata": {},
     "output_type": "execute_result"
    }
   ],
   "source": [
    "U = [x for x in range(10)]\n",
    "U"
   ]
  },
  {
   "cell_type": "code",
   "execution_count": 6,
   "metadata": {},
   "outputs": [
    {
     "data": {
      "text/plain": [
       "[100, 101, 102, 103, 104, 105, 106, 107, 108, 109]"
      ]
     },
     "execution_count": 6,
     "metadata": {},
     "output_type": "execute_result"
    }
   ],
   "source": [
    "U = [x+100 for x in range(10)]\n",
    "U"
   ]
  },
  {
   "cell_type": "code",
   "execution_count": 7,
   "metadata": {},
   "outputs": [
    {
     "data": {
      "text/plain": [
       "[0, 2, 4, 6, 8]"
      ]
     },
     "execution_count": 7,
     "metadata": {},
     "output_type": "execute_result"
    }
   ],
   "source": [
    "U = [x for x in range(10) if x%2==0]\n",
    "U"
   ]
  },
  {
   "cell_type": "code",
   "execution_count": 8,
   "metadata": {},
   "outputs": [],
   "source": [
    "import random"
   ]
  },
  {
   "cell_type": "code",
   "execution_count": 9,
   "metadata": {},
   "outputs": [
    {
     "data": {
      "text/plain": [
       "[2, 5, 7, 4, 7, 2, 3, 8, 1, 10]"
      ]
     },
     "execution_count": 9,
     "metadata": {},
     "output_type": "execute_result"
    }
   ],
   "source": [
    "K=[random.randint(0,10)for i in range(10)]\n",
    "K"
   ]
  },
  {
   "cell_type": "code",
   "execution_count": 10,
   "metadata": {},
   "outputs": [
    {
     "data": {
      "text/plain": [
       "[1, 2, 3, 1, 2, 3]"
      ]
     },
     "execution_count": 10,
     "metadata": {},
     "output_type": "execute_result"
    }
   ],
   "source": [
    "b=[]\n",
    "a=[1,2,3,[1,2,3]]\n",
    "for i in a:\n",
    "    if type(i) is list:\n",
    "        b.extend(i)\n",
    "    else:\n",
    "        b.append(i)\n",
    "b"
   ]
  },
  {
   "cell_type": "code",
   "execution_count": 11,
   "metadata": {},
   "outputs": [
    {
     "ename": "ValueError",
     "evalue": "list.remove(x): x not in list",
     "output_type": "error",
     "traceback": [
      "\u001b[1;31m---------------------------------------------------------------------------\u001b[0m",
      "\u001b[1;31mValueError\u001b[0m                                Traceback (most recent call last)",
      "\u001b[1;32m<ipython-input-11-42eee24902d8>\u001b[0m in \u001b[0;36m<module>\u001b[1;34m\u001b[0m\n\u001b[0;32m      1\u001b[0m \u001b[0mb\u001b[0m\u001b[1;33m=\u001b[0m\u001b[1;33m[\u001b[0m\u001b[1;36m1\u001b[0m\u001b[1;33m,\u001b[0m\u001b[1;36m2\u001b[0m\u001b[1;33m,\u001b[0m\u001b[1;36m3\u001b[0m\u001b[1;33m]\u001b[0m\u001b[1;33m\u001b[0m\u001b[1;33m\u001b[0m\u001b[0m\n\u001b[1;32m----> 2\u001b[1;33m \u001b[0mb\u001b[0m\u001b[1;33m.\u001b[0m\u001b[0mremove\u001b[0m\u001b[1;33m(\u001b[0m\u001b[1;36m100\u001b[0m\u001b[1;33m)\u001b[0m\u001b[1;33m\u001b[0m\u001b[1;33m\u001b[0m\u001b[0m\n\u001b[0m",
      "\u001b[1;31mValueError\u001b[0m: list.remove(x): x not in list"
     ]
    }
   ],
   "source": [
    "b=[1,2,3]\n",
    "b.remove(100)"
   ]
  },
  {
   "cell_type": "markdown",
   "metadata": {},
   "source": [
    "## 列表的方法\n",
    "![](../Photo/118.png)"
   ]
  },
  {
   "cell_type": "code",
   "execution_count": 29,
   "metadata": {},
   "outputs": [],
   "source": [
    "a=[1,2,10,4,6]\n"
   ]
  },
  {
   "cell_type": "code",
   "execution_count": 30,
   "metadata": {},
   "outputs": [
    {
     "name": "stdout",
     "output_type": "stream",
     "text": [
      "[1, 2, 10, 4, 6]\n",
      "[1, 2, 10, 4, 6]\n",
      "[1, 2, 4, 10, 6]\n",
      "[1, 2, 4, 6, 10]\n"
     ]
    }
   ],
   "source": [
    "for i in range(len(a)):\n",
    "    for j in range(len(a)-i-1):\n",
    "#        print(a[j],a[j+1])\n",
    "        if a[j]>a[j+1]:\n",
    "            a[j],a[j+1]=a[j+1],a[j]\n",
    "        print(a)\n",
    "    break"
   ]
  },
  {
   "cell_type": "code",
   "execution_count": 15,
   "metadata": {},
   "outputs": [
    {
     "data": {
      "text/plain": [
       "[3, 2, 1]"
      ]
     },
     "execution_count": 15,
     "metadata": {},
     "output_type": "execute_result"
    }
   ],
   "source": [
    "b=[1,2,3]\n",
    "b.reverse()\n",
    "b"
   ]
  },
  {
   "cell_type": "code",
   "execution_count": 22,
   "metadata": {},
   "outputs": [
    {
     "data": {
      "text/plain": [
       "[10, 6, 4, 2, 1]"
      ]
     },
     "execution_count": 22,
     "metadata": {},
     "output_type": "execute_result"
    }
   ],
   "source": [
    "a=[1,2,10,4,6]\n",
    "a.sort(reverse=True)\n",
    "a"
   ]
  },
  {
   "cell_type": "code",
   "execution_count": 11,
   "metadata": {},
   "outputs": [],
   "source": [
    "a=10\n",
    "b=[100]\n",
    "b.append(a)"
   ]
  },
  {
   "cell_type": "code",
   "execution_count": 12,
   "metadata": {},
   "outputs": [
    {
     "data": {
      "text/plain": [
       "[100, 10]"
      ]
     },
     "execution_count": 12,
     "metadata": {},
     "output_type": "execute_result"
    }
   ],
   "source": [
    "b"
   ]
  },
  {
   "cell_type": "code",
   "execution_count": 1,
   "metadata": {},
   "outputs": [
    {
     "data": {
      "text/plain": [
       "[1, 2, 3, 4, 100, 200, 300, 400]"
      ]
     },
     "execution_count": 1,
     "metadata": {},
     "output_type": "execute_result"
    }
   ],
   "source": [
    "a=[1,2,3,4]\n",
    "b=[100,200,300,400]\n",
    "for i in b:\n",
    "    a.append(i)\n",
    "a\n"
   ]
  },
  {
   "cell_type": "code",
   "execution_count": 3,
   "metadata": {},
   "outputs": [
    {
     "data": {
      "text/plain": [
       "[1, 2, 3, 4, [200, 300]]"
      ]
     },
     "execution_count": 3,
     "metadata": {},
     "output_type": "execute_result"
    }
   ],
   "source": [
    "a=[1,2,3,4]\n",
    "b=[100,200,300,400]\n",
    "a.append(b[1:3])\n",
    "a"
   ]
  },
  {
   "cell_type": "code",
   "execution_count": 8,
   "metadata": {
    "scrolled": true
   },
   "outputs": [
    {
     "name": "stdout",
     "output_type": "stream",
     "text": [
      "2\n",
      "2\n",
      "2\n",
      "2\n",
      "2\n"
     ]
    },
    {
     "data": {
      "text/plain": [
       "[1, 2, 2, [2, 2], 3]"
      ]
     },
     "execution_count": 8,
     "metadata": {},
     "output_type": "execute_result"
    }
   ],
   "source": [
    "a=[1,2,2,[2,2],3]\n",
    "for i in a:\n",
    "    print(a.count(2))\n",
    "a\n"
   ]
  },
  {
   "cell_type": "code",
   "execution_count": 9,
   "metadata": {},
   "outputs": [],
   "source": [
    "a=[1,2,3,4,1]\n",
    "a.insert(2,100)"
   ]
  },
  {
   "cell_type": "code",
   "execution_count": 10,
   "metadata": {},
   "outputs": [
    {
     "data": {
      "text/plain": [
       "[1, 2, 100, 3, 4, 1]"
      ]
     },
     "execution_count": 10,
     "metadata": {},
     "output_type": "execute_result"
    }
   ],
   "source": [
    "a"
   ]
  },
  {
   "cell_type": "code",
   "execution_count": 13,
   "metadata": {},
   "outputs": [
    {
     "data": {
      "text/plain": [
       "[1, 100, 2, 3, 4, 6]"
      ]
     },
     "execution_count": 13,
     "metadata": {},
     "output_type": "execute_result"
    }
   ],
   "source": [
    "b=[1,2,3,4,6]\n",
    "for i in b:\n",
    "    if i %2==0 and i !=100:\n",
    "        index_=b.index(i)\n",
    "        b.insert(index_,100)\n",
    "        break\n",
    "b"
   ]
  },
  {
   "cell_type": "code",
   "execution_count": 14,
   "metadata": {},
   "outputs": [],
   "source": [
    "a=[1,1,1,2,3]\n",
    "a.remove(1)"
   ]
  },
  {
   "cell_type": "code",
   "execution_count": 15,
   "metadata": {},
   "outputs": [
    {
     "data": {
      "text/plain": [
       "[1, 1, 2, 3]"
      ]
     },
     "execution_count": 15,
     "metadata": {},
     "output_type": "execute_result"
    }
   ],
   "source": [
    "a"
   ]
  },
  {
   "cell_type": "markdown",
   "metadata": {},
   "source": [
    "## 将字符串分割成列表\n",
    "- split  按照自定义的内容拆分"
   ]
  },
  {
   "cell_type": "markdown",
   "metadata": {},
   "source": [
    "## EP:\n",
    "![](../Photo/119.png)\n",
    "![](../Photo/120.png)"
   ]
  },
  {
   "cell_type": "markdown",
   "metadata": {},
   "source": [
    "## 列表的复制\n",
    "- copy 浅复制\n",
    "- deepcopy import copy  深复制\n",
    "- http://www.pythontutor.com/visualize.html#mode=edit"
   ]
  },
  {
   "cell_type": "markdown",
   "metadata": {},
   "source": [
    "## 列表排序\n",
    "- sort\n",
    "- sorted\n",
    "- 列表的多级排序\n",
    "    - 匿名函数"
   ]
  },
  {
   "cell_type": "code",
   "execution_count": 32,
   "metadata": {},
   "outputs": [
    {
     "data": {
      "text/plain": [
       "[0, 1, 2, 3]"
      ]
     },
     "execution_count": 32,
     "metadata": {},
     "output_type": "execute_result"
    }
   ],
   "source": [
    "a=[1,2,3,0]\n",
    "a.sort()\n",
    "a"
   ]
  },
  {
   "cell_type": "code",
   "execution_count": 35,
   "metadata": {},
   "outputs": [
    {
     "name": "stdout",
     "output_type": "stream",
     "text": [
      "100\n"
     ]
    }
   ],
   "source": [
    "(lambda x:print(x))(100)"
   ]
  },
  {
   "cell_type": "code",
   "execution_count": 36,
   "metadata": {},
   "outputs": [
    {
     "data": {
      "text/plain": [
       "[['HX', 1], ['ZOF', 20], ['ZWJ', 60], ['WJJ', 100]]"
      ]
     },
     "execution_count": 36,
     "metadata": {},
     "output_type": "execute_result"
    }
   ],
   "source": [
    "a=[['ZWJ',60],['ZOF',20],['WJJ',100],['HX',1]]\n",
    "a.sort(key=lambda x:x[1])\n",
    "a"
   ]
  },
  {
   "cell_type": "markdown",
   "metadata": {},
   "source": [
    "## EP：\n",
    "- 手动排序该列表[5,3,8,0,17]，以升序或者降序"
   ]
  },
  {
   "cell_type": "markdown",
   "metadata": {},
   "source": [
    "- 1\n",
    "![](../Photo/121.png)"
   ]
  },
  {
   "cell_type": "code",
   "execution_count": 2,
   "metadata": {},
   "outputs": [
    {
     "name": "stdout",
     "output_type": "stream",
     "text": [
      "请输入成绩列表：40,55,70,58\n",
      "40 级别C\n",
      "55 级别B\n",
      "70 级别A\n",
      "58 级别B\n"
     ]
    }
   ],
   "source": [
    "\n",
    "a=eval(input('请输入成绩列表：'))\n",
    "b=max(a)\n",
    "for i in a:\n",
    "    if i>=b-10:\n",
    "        print(i,'级别A')\n",
    "    elif i>=b-20:\n",
    "        print(i,'级别B')\n",
    "    elif i>=b-30:\n",
    "        print(i,'级别C')            \n",
    "    elif i>=b-40:\n",
    "        print(i,'级别D')\n",
    "    else:\n",
    "        print(i,'成绩为F！')"
   ]
  },
  {
   "cell_type": "markdown",
   "metadata": {},
   "source": [
    "- 2\n",
    "![](../Photo/122.png)"
   ]
  },
  {
   "cell_type": "code",
   "execution_count": 1,
   "metadata": {},
   "outputs": [
    {
     "name": "stdout",
     "output_type": "stream",
     "text": [
      "请输入一个整数列表：1,2,3\n",
      "(3, 2, 1)\n"
     ]
    }
   ],
   "source": [
    "#逆序读取的数字\n",
    "a = eval(input('请输入一个整数列表：'))\n",
    "print(a[::-1])"
   ]
  },
  {
   "cell_type": "markdown",
   "metadata": {},
   "source": [
    "- 3\n",
    "![](../Photo/123.png)"
   ]
  },
  {
   "cell_type": "code",
   "execution_count": 3,
   "metadata": {},
   "outputs": [
    {
     "name": "stdout",
     "output_type": "stream",
     "text": [
      "1 1\n",
      "2 2\n",
      "3 1\n",
      "2 2\n"
     ]
    }
   ],
   "source": [
    "#统计数字个数\n",
    "a=[1,2,3,2]\n",
    "for i in a:\n",
    "    if i>100:\n",
    "        pass\n",
    "    else:\n",
    "        b=a.count(i)       \n",
    "        print(i,b)    "
   ]
  },
  {
   "cell_type": "markdown",
   "metadata": {},
   "source": [
    "- 4\n",
    "![](../Photo/124.png)"
   ]
  },
  {
   "cell_type": "code",
   "execution_count": 4,
   "metadata": {},
   "outputs": [
    {
     "name": "stdout",
     "output_type": "stream",
     "text": [
      "大于平均数的值为： 4\n",
      "小于平均数的值为： 4\n"
     ]
    }
   ],
   "source": [
    "#分析成绩\n",
    "a = [60,65,67,78,87,89,91,99]\n",
    "b = sum(a)/len(a)\n",
    "num1 = 0\n",
    "num2 = 0\n",
    "for i in a:\n",
    "    if i > b:\n",
    "        num1 += 1\n",
    "    if i < b:\n",
    "        num2 += 1   \n",
    "print('大于平均数的值为：',num1)\n",
    "print('小于平均数的值为：',num2)"
   ]
  },
  {
   "cell_type": "markdown",
   "metadata": {},
   "source": [
    "- 5\n",
    "![](../Photo/125.png)"
   ]
  },
  {
   "cell_type": "code",
   "execution_count": 6,
   "metadata": {},
   "outputs": [
    {
     "data": {
      "text/plain": [
       "[5,\n",
       " 9,\n",
       " 9,\n",
       " 5,\n",
       " 0,\n",
       " 5,\n",
       " 4,\n",
       " 1,\n",
       " 6,\n",
       " 4,\n",
       " 5,\n",
       " 7,\n",
       " 5,\n",
       " 3,\n",
       " 0,\n",
       " 5,\n",
       " 6,\n",
       " 3,\n",
       " 5,\n",
       " 2,\n",
       " 0,\n",
       " 4,\n",
       " 9,\n",
       " 4,\n",
       " 1,\n",
       " 0,\n",
       " 2,\n",
       " 2,\n",
       " 1,\n",
       " 8,\n",
       " 8,\n",
       " 7,\n",
       " 0,\n",
       " 9,\n",
       " 7,\n",
       " 5,\n",
       " 0,\n",
       " 5,\n",
       " 4,\n",
       " 2,\n",
       " 3,\n",
       " 8,\n",
       " 6,\n",
       " 1,\n",
       " 3,\n",
       " 9,\n",
       " 0,\n",
       " 6,\n",
       " 4,\n",
       " 8,\n",
       " 2,\n",
       " 5,\n",
       " 0,\n",
       " 4,\n",
       " 1,\n",
       " 8,\n",
       " 7,\n",
       " 2,\n",
       " 6,\n",
       " 1,\n",
       " 2,\n",
       " 1,\n",
       " 7,\n",
       " 6,\n",
       " 4,\n",
       " 2,\n",
       " 6,\n",
       " 4,\n",
       " 8,\n",
       " 7,\n",
       " 9,\n",
       " 7,\n",
       " 8,\n",
       " 6,\n",
       " 0,\n",
       " 7,\n",
       " 6,\n",
       " 8,\n",
       " 2,\n",
       " 1,\n",
       " 3,\n",
       " 3,\n",
       " 6,\n",
       " 9,\n",
       " 4,\n",
       " 7,\n",
       " 2,\n",
       " 4,\n",
       " 0,\n",
       " 9,\n",
       " 6,\n",
       " 4,\n",
       " 3,\n",
       " 6,\n",
       " 4,\n",
       " 7,\n",
       " 0,\n",
       " 6,\n",
       " 3,\n",
       " 3,\n",
       " 8,\n",
       " 9,\n",
       " 5,\n",
       " 7,\n",
       " 7,\n",
       " 2,\n",
       " 8,\n",
       " 6,\n",
       " 2,\n",
       " 5,\n",
       " 7,\n",
       " 6,\n",
       " 7,\n",
       " 6,\n",
       " 8,\n",
       " 8,\n",
       " 9,\n",
       " 9,\n",
       " 7,\n",
       " 6,\n",
       " 0,\n",
       " 4,\n",
       " 2,\n",
       " 3,\n",
       " 4,\n",
       " 1,\n",
       " 8,\n",
       " 9,\n",
       " 3,\n",
       " 4,\n",
       " 1,\n",
       " 9,\n",
       " 4,\n",
       " 9,\n",
       " 6,\n",
       " 5,\n",
       " 5,\n",
       " 5,\n",
       " 8,\n",
       " 5,\n",
       " 3,\n",
       " 3,\n",
       " 7,\n",
       " 8,\n",
       " 7,\n",
       " 1,\n",
       " 9,\n",
       " 8,\n",
       " 6,\n",
       " 3,\n",
       " 7,\n",
       " 6,\n",
       " 3,\n",
       " 2,\n",
       " 4,\n",
       " 2,\n",
       " 1,\n",
       " 0,\n",
       " 5,\n",
       " 2,\n",
       " 6,\n",
       " 8,\n",
       " 5,\n",
       " 6,\n",
       " 3,\n",
       " 5,\n",
       " 2,\n",
       " 9,\n",
       " 8,\n",
       " 1,\n",
       " 0,\n",
       " 9,\n",
       " 4,\n",
       " 9,\n",
       " 7,\n",
       " 1,\n",
       " 2,\n",
       " 6,\n",
       " 6,\n",
       " 3,\n",
       " 5,\n",
       " 7,\n",
       " 2,\n",
       " 0,\n",
       " 5,\n",
       " 0,\n",
       " 7,\n",
       " 5,\n",
       " 6,\n",
       " 9,\n",
       " 8,\n",
       " 0,\n",
       " 9,\n",
       " 2,\n",
       " 7,\n",
       " 1,\n",
       " 7,\n",
       " 8,\n",
       " 2,\n",
       " 0,\n",
       " 9,\n",
       " 5,\n",
       " 6,\n",
       " 0,\n",
       " 5,\n",
       " 1,\n",
       " 6,\n",
       " 2,\n",
       " 6,\n",
       " 8,\n",
       " 5,\n",
       " 5,\n",
       " 2,\n",
       " 6,\n",
       " 3,\n",
       " 9,\n",
       " 9,\n",
       " 9,\n",
       " 5,\n",
       " 0,\n",
       " 2,\n",
       " 2,\n",
       " 9,\n",
       " 8,\n",
       " 1,\n",
       " 2,\n",
       " 3,\n",
       " 5,\n",
       " 1,\n",
       " 8,\n",
       " 3,\n",
       " 3,\n",
       " 1,\n",
       " 6,\n",
       " 1,\n",
       " 6,\n",
       " 9,\n",
       " 9,\n",
       " 3,\n",
       " 3,\n",
       " 5,\n",
       " 4,\n",
       " 8,\n",
       " 0,\n",
       " 3,\n",
       " 8,\n",
       " 4,\n",
       " 2,\n",
       " 9,\n",
       " 6,\n",
       " 6,\n",
       " 2,\n",
       " 3,\n",
       " 9,\n",
       " 3,\n",
       " 9,\n",
       " 0,\n",
       " 4,\n",
       " 5,\n",
       " 7,\n",
       " 1,\n",
       " 1,\n",
       " 8,\n",
       " 4,\n",
       " 1,\n",
       " 5,\n",
       " 9,\n",
       " 9,\n",
       " 0,\n",
       " 9,\n",
       " 6,\n",
       " 1,\n",
       " 2,\n",
       " 2,\n",
       " 3,\n",
       " 6,\n",
       " 4,\n",
       " 8,\n",
       " 0,\n",
       " 0,\n",
       " 6,\n",
       " 3,\n",
       " 6,\n",
       " 4,\n",
       " 9,\n",
       " 3,\n",
       " 2,\n",
       " 8,\n",
       " 7,\n",
       " 4,\n",
       " 6,\n",
       " 8,\n",
       " 8,\n",
       " 8,\n",
       " 4,\n",
       " 7,\n",
       " 1,\n",
       " 4,\n",
       " 5,\n",
       " 0,\n",
       " 1,\n",
       " 2,\n",
       " 0,\n",
       " 8,\n",
       " 9,\n",
       " 7,\n",
       " 6,\n",
       " 7,\n",
       " 5,\n",
       " 2,\n",
       " 8,\n",
       " 9,\n",
       " 0,\n",
       " 7,\n",
       " 0,\n",
       " 6,\n",
       " 7,\n",
       " 2,\n",
       " 1,\n",
       " 5,\n",
       " 9,\n",
       " 6,\n",
       " 7,\n",
       " 9,\n",
       " 0,\n",
       " 1,\n",
       " 4,\n",
       " 8,\n",
       " 0,\n",
       " 2,\n",
       " 2,\n",
       " 0,\n",
       " 2,\n",
       " 9,\n",
       " 7,\n",
       " 3,\n",
       " 1,\n",
       " 6,\n",
       " 2,\n",
       " 5,\n",
       " 6,\n",
       " 3,\n",
       " 3,\n",
       " 5,\n",
       " 4,\n",
       " 5,\n",
       " 5,\n",
       " 5,\n",
       " 7,\n",
       " 4,\n",
       " 7,\n",
       " 0,\n",
       " 5,\n",
       " 2,\n",
       " 0,\n",
       " 6,\n",
       " 6,\n",
       " 2,\n",
       " 7,\n",
       " 3,\n",
       " 0,\n",
       " 1,\n",
       " 1,\n",
       " 2,\n",
       " 5,\n",
       " 2,\n",
       " 1,\n",
       " 0,\n",
       " 1,\n",
       " 0,\n",
       " 1,\n",
       " 2,\n",
       " 1,\n",
       " 9,\n",
       " 8,\n",
       " 7,\n",
       " 5,\n",
       " 0,\n",
       " 8,\n",
       " 0,\n",
       " 3,\n",
       " 7,\n",
       " 7,\n",
       " 7,\n",
       " 8,\n",
       " 1,\n",
       " 8,\n",
       " 7,\n",
       " 1,\n",
       " 6,\n",
       " 2,\n",
       " 2,\n",
       " 8,\n",
       " 1,\n",
       " 8,\n",
       " 0,\n",
       " 4,\n",
       " 2,\n",
       " 4,\n",
       " 1,\n",
       " 0,\n",
       " 2,\n",
       " 7,\n",
       " 5,\n",
       " 2,\n",
       " 5,\n",
       " 4,\n",
       " 7,\n",
       " 4,\n",
       " 6,\n",
       " 6,\n",
       " 8,\n",
       " 5,\n",
       " 6,\n",
       " 1,\n",
       " 1,\n",
       " 8,\n",
       " 8,\n",
       " 2,\n",
       " 7,\n",
       " 5,\n",
       " 3,\n",
       " 7,\n",
       " 3,\n",
       " 1,\n",
       " 0,\n",
       " 4,\n",
       " 7,\n",
       " 3,\n",
       " 9,\n",
       " 4,\n",
       " 5,\n",
       " 0,\n",
       " 3,\n",
       " 9,\n",
       " 3,\n",
       " 6,\n",
       " 9,\n",
       " 4,\n",
       " 5,\n",
       " 1,\n",
       " 3,\n",
       " 7,\n",
       " 8,\n",
       " 7,\n",
       " 0,\n",
       " 8,\n",
       " 6,\n",
       " 4,\n",
       " 3,\n",
       " 5,\n",
       " 7,\n",
       " 5,\n",
       " 2,\n",
       " 8,\n",
       " 9,\n",
       " 4,\n",
       " 7,\n",
       " 0,\n",
       " 5,\n",
       " 9,\n",
       " 7,\n",
       " 1,\n",
       " 3,\n",
       " 9,\n",
       " 6,\n",
       " 9,\n",
       " 1,\n",
       " 0,\n",
       " 9,\n",
       " 8,\n",
       " 3,\n",
       " 8,\n",
       " 5,\n",
       " 8,\n",
       " 7,\n",
       " 0,\n",
       " 2,\n",
       " 8,\n",
       " 6,\n",
       " 0,\n",
       " 6,\n",
       " 3,\n",
       " 5,\n",
       " 8,\n",
       " 8,\n",
       " 1,\n",
       " 7,\n",
       " 1,\n",
       " 5,\n",
       " 9,\n",
       " 0,\n",
       " 1,\n",
       " 9,\n",
       " 9,\n",
       " 0,\n",
       " 5,\n",
       " 8,\n",
       " 5,\n",
       " 0,\n",
       " 9,\n",
       " 9,\n",
       " 9,\n",
       " 3,\n",
       " 1,\n",
       " 3,\n",
       " 2,\n",
       " 3,\n",
       " 9,\n",
       " 4,\n",
       " 0,\n",
       " 8,\n",
       " 3,\n",
       " 8,\n",
       " 4,\n",
       " 5,\n",
       " 1,\n",
       " 7,\n",
       " 3,\n",
       " 2,\n",
       " 6,\n",
       " 8,\n",
       " 3,\n",
       " 4,\n",
       " 7,\n",
       " 6,\n",
       " 9,\n",
       " 4,\n",
       " 5,\n",
       " 5,\n",
       " 1,\n",
       " 7,\n",
       " 9,\n",
       " 9,\n",
       " 6,\n",
       " 5,\n",
       " 1,\n",
       " 2,\n",
       " 4,\n",
       " 1,\n",
       " 5,\n",
       " 5,\n",
       " 6,\n",
       " 5,\n",
       " 5,\n",
       " 0,\n",
       " 7,\n",
       " 3,\n",
       " 8,\n",
       " 8,\n",
       " 4,\n",
       " 3,\n",
       " 0,\n",
       " 5,\n",
       " 1,\n",
       " 5,\n",
       " 0,\n",
       " 1,\n",
       " 4,\n",
       " 8,\n",
       " 4,\n",
       " 0,\n",
       " 3,\n",
       " 8,\n",
       " 4,\n",
       " 2,\n",
       " 0,\n",
       " 8,\n",
       " 5,\n",
       " 9,\n",
       " 9,\n",
       " 3,\n",
       " 9,\n",
       " 4,\n",
       " 7,\n",
       " 5,\n",
       " 2,\n",
       " 1,\n",
       " 3,\n",
       " 2,\n",
       " 6,\n",
       " 0,\n",
       " 8,\n",
       " 1,\n",
       " 3,\n",
       " 2,\n",
       " 2,\n",
       " 6,\n",
       " 6,\n",
       " 8,\n",
       " 0,\n",
       " 1,\n",
       " 6,\n",
       " 9,\n",
       " 3,\n",
       " 2,\n",
       " 5,\n",
       " 4,\n",
       " 2,\n",
       " 1,\n",
       " 5,\n",
       " 0,\n",
       " 8,\n",
       " 6,\n",
       " 4,\n",
       " 0,\n",
       " 8,\n",
       " 3,\n",
       " 4,\n",
       " 1,\n",
       " 3,\n",
       " 3,\n",
       " 6,\n",
       " 3,\n",
       " 5,\n",
       " 7,\n",
       " 1,\n",
       " 2,\n",
       " 9,\n",
       " 4,\n",
       " 0,\n",
       " 7,\n",
       " 0,\n",
       " 1,\n",
       " 9,\n",
       " 4,\n",
       " 9,\n",
       " 8,\n",
       " 7,\n",
       " 4,\n",
       " 8,\n",
       " 9,\n",
       " 3,\n",
       " 8,\n",
       " 3,\n",
       " 4,\n",
       " 1,\n",
       " 3,\n",
       " 2,\n",
       " 7,\n",
       " 2,\n",
       " 4,\n",
       " 7,\n",
       " 9,\n",
       " 3,\n",
       " 3,\n",
       " 9,\n",
       " 7,\n",
       " 7,\n",
       " 5,\n",
       " 8,\n",
       " 7,\n",
       " 5,\n",
       " 1,\n",
       " 3,\n",
       " 3,\n",
       " 5,\n",
       " 7,\n",
       " 5,\n",
       " 2,\n",
       " 0,\n",
       " 9,\n",
       " 5,\n",
       " 4,\n",
       " 4,\n",
       " 8,\n",
       " 1,\n",
       " 5,\n",
       " 2,\n",
       " 8,\n",
       " 0,\n",
       " 0,\n",
       " 6,\n",
       " 4,\n",
       " 2,\n",
       " 5,\n",
       " 7,\n",
       " 9,\n",
       " 7,\n",
       " 0,\n",
       " 8,\n",
       " 6,\n",
       " 7,\n",
       " 5,\n",
       " 2,\n",
       " 5,\n",
       " 0,\n",
       " 1,\n",
       " 3,\n",
       " 2,\n",
       " 4,\n",
       " 5,\n",
       " 8,\n",
       " 0,\n",
       " 0,\n",
       " 4,\n",
       " 3,\n",
       " 6,\n",
       " 2,\n",
       " 8,\n",
       " 0,\n",
       " 4,\n",
       " 6,\n",
       " 4,\n",
       " 9,\n",
       " 9,\n",
       " 6,\n",
       " 0,\n",
       " 7,\n",
       " 2,\n",
       " 2,\n",
       " 8,\n",
       " 2,\n",
       " 8,\n",
       " 9,\n",
       " 6,\n",
       " 5,\n",
       " 2,\n",
       " 3,\n",
       " 8,\n",
       " 4,\n",
       " 6,\n",
       " 0,\n",
       " 8,\n",
       " 6,\n",
       " 7,\n",
       " 3,\n",
       " 6,\n",
       " 4,\n",
       " 7,\n",
       " 7,\n",
       " 7,\n",
       " 4,\n",
       " 8,\n",
       " 2,\n",
       " 5,\n",
       " 1,\n",
       " 7,\n",
       " 3,\n",
       " 6,\n",
       " 8,\n",
       " 0,\n",
       " 4,\n",
       " 9,\n",
       " 2,\n",
       " 4,\n",
       " 4,\n",
       " 3,\n",
       " 8,\n",
       " 2,\n",
       " 4,\n",
       " 1,\n",
       " 3,\n",
       " 9,\n",
       " 5,\n",
       " 1,\n",
       " 2,\n",
       " 1,\n",
       " 9,\n",
       " 4,\n",
       " 3,\n",
       " 7,\n",
       " 4,\n",
       " 8,\n",
       " 9,\n",
       " 6,\n",
       " 7,\n",
       " 3,\n",
       " 1,\n",
       " 8,\n",
       " 3,\n",
       " 2,\n",
       " 1,\n",
       " 7,\n",
       " 4,\n",
       " 3,\n",
       " 2,\n",
       " 8,\n",
       " 4,\n",
       " 2,\n",
       " 9,\n",
       " 0,\n",
       " 3,\n",
       " 6,\n",
       " 3,\n",
       " 4,\n",
       " 2,\n",
       " 8,\n",
       " 6,\n",
       " 7,\n",
       " 5,\n",
       " 8,\n",
       " 6,\n",
       " 2,\n",
       " 9,\n",
       " 5,\n",
       " 4,\n",
       " 7,\n",
       " 0,\n",
       " 1,\n",
       " 4,\n",
       " 5,\n",
       " 0,\n",
       " 9,\n",
       " 8,\n",
       " 0,\n",
       " 8,\n",
       " 5,\n",
       " 3,\n",
       " 6,\n",
       " 8,\n",
       " 9,\n",
       " 8,\n",
       " 0,\n",
       " 8,\n",
       " 6,\n",
       " 5,\n",
       " 3,\n",
       " 0,\n",
       " 4,\n",
       " 3,\n",
       " 8,\n",
       " 1,\n",
       " 3,\n",
       " 7,\n",
       " 3,\n",
       " 3,\n",
       " 8,\n",
       " 8,\n",
       " 3,\n",
       " 7,\n",
       " 6,\n",
       " 2,\n",
       " 1,\n",
       " 6,\n",
       " 1,\n",
       " 2,\n",
       " 8,\n",
       " 2,\n",
       " 4,\n",
       " 0,\n",
       " 5,\n",
       " 1,\n",
       " 4,\n",
       " 6,\n",
       " 0,\n",
       " 4,\n",
       " 5,\n",
       " 6,\n",
       " 4,\n",
       " 6,\n",
       " 6,\n",
       " 1,\n",
       " 1,\n",
       " 3,\n",
       " 3,\n",
       " 9,\n",
       " 6,\n",
       " 4,\n",
       " 6,\n",
       " 1,\n",
       " 9,\n",
       " 8,\n",
       " 3,\n",
       " 7,\n",
       " 3,\n",
       " 9,\n",
       " 2,\n",
       " 9,\n",
       " 6,\n",
       " 1,\n",
       " 6,\n",
       " 3,\n",
       " 4,\n",
       " 2,\n",
       " 5,\n",
       " 0,\n",
       " 1,\n",
       " 8,\n",
       " 8,\n",
       " 5,\n",
       " 4,\n",
       " 1,\n",
       " 3,\n",
       " 9,\n",
       " 6,\n",
       " 6,\n",
       " 9,\n",
       " 4,\n",
       " 4,\n",
       " 7,\n",
       " 8,\n",
       " 0,\n",
       " 9,\n",
       " 4,\n",
       " 9,\n",
       " 5,\n",
       " 6,\n",
       " 8,\n",
       " 5,\n",
       " 9,\n",
       " 2,\n",
       " 4,\n",
       " 1,\n",
       " 3,\n",
       " 3,\n",
       " 4,\n",
       " 0,\n",
       " 2,\n",
       " 0,\n",
       " 5,\n",
       " 4,\n",
       " 8,\n",
       " 4,\n",
       " 2,\n",
       " 0,\n",
       " 5,\n",
       " 3,\n",
       " 3,\n",
       " 0,\n",
       " 1,\n",
       " 3,\n",
       " 3,\n",
       " 9,\n",
       " 4,\n",
       " 8,\n",
       " 2,\n",
       " 9,\n",
       " 9,\n",
       " 9,\n",
       " 1,\n",
       " 9,\n",
       " 9,\n",
       " 8,\n",
       " 4,\n",
       " 1,\n",
       " 1,\n",
       " 6,\n",
       " 3,\n",
       " 8,\n",
       " 5,\n",
       " 2,\n",
       " 1,\n",
       " 9,\n",
       " 3,\n",
       " 0,\n",
       " 9,\n",
       " 6,\n",
       " 2,\n",
       " 6,\n",
       " 9,\n",
       " 7,\n",
       " 4,\n",
       " 1,\n",
       " 4,\n",
       " 3,\n",
       " 3,\n",
       " 4,\n",
       " 5,\n",
       " 0,\n",
       " 4,\n",
       " 8,\n",
       " 3,\n",
       " 1,\n",
       " 2,\n",
       " 5,\n",
       " 7,\n",
       " 7,\n",
       " 8,\n",
       " 3,\n",
       " 7,\n",
       " 5,\n",
       " 9,\n",
       " 4,\n",
       " 7,\n",
       " 0,\n",
       " 8,\n",
       " 0,\n",
       " 3,\n",
       " 0,\n",
       " 8,\n",
       " 5,\n",
       " 5,\n",
       " 0,\n",
       " 8,\n",
       " 6,\n",
       " 5,\n",
       " 9,\n",
       " 9,\n",
       " 1,\n",
       " 0,\n",
       " 4,\n",
       " 4,\n",
       " 2,\n",
       " 7,\n",
       " 5,\n",
       " 3,\n",
       " 9,\n",
       " 4,\n",
       " 3]"
      ]
     },
     "execution_count": 6,
     "metadata": {},
     "output_type": "execute_result"
    }
   ],
   "source": [
    "#统计单个数字\n",
    "import random\n",
    "U = [random.randint(0,9) for i in range(1000) ]\n",
    "U"
   ]
  },
  {
   "cell_type": "markdown",
   "metadata": {},
   "source": [
    "- 6\n",
    "![](../Photo/126.png)"
   ]
  },
  {
   "cell_type": "code",
   "execution_count": 16,
   "metadata": {},
   "outputs": [],
   "source": [
    "#找出最小元素的下标\n",
    "def gg():\n",
    "    print('输入一个数字列表:')\n",
    "    a = input(\">>\")\n",
    "    b = min(a)\n",
    "    c = a.index(b)\n",
    "    print(c)"
   ]
  },
  {
   "cell_type": "code",
   "execution_count": 17,
   "metadata": {},
   "outputs": [
    {
     "name": "stdout",
     "output_type": "stream",
     "text": [
      "输入一个数字列表:\n",
      ">>2,3,4\n",
      "1\n"
     ]
    }
   ],
   "source": [
    "h=gg()"
   ]
  },
  {
   "cell_type": "markdown",
   "metadata": {},
   "source": [
    "- 7\n",
    "![](../Photo/127.png)\n",
    "![](../Photo/128.png)"
   ]
  },
  {
   "cell_type": "code",
   "execution_count": 18,
   "metadata": {},
   "outputs": [],
   "source": [
    "#随机数字选择器\n",
    "def bb():\n",
    "    a = [1,2,3]  \n",
    "    random.shuffle(a)\n",
    "    print(a)"
   ]
  },
  {
   "cell_type": "code",
   "execution_count": 21,
   "metadata": {},
   "outputs": [
    {
     "name": "stdout",
     "output_type": "stream",
     "text": [
      "[2, 3, 1]\n"
     ]
    }
   ],
   "source": [
    "a=bb()"
   ]
  },
  {
   "cell_type": "markdown",
   "metadata": {},
   "source": [
    "- 8\n",
    "![](../Photo/129.png)"
   ]
  },
  {
   "cell_type": "code",
   "execution_count": null,
   "metadata": {},
   "outputs": [],
   "source": []
  },
  {
   "cell_type": "markdown",
   "metadata": {},
   "source": [
    "- 9\n",
    "![](../Photo/130.png)"
   ]
  },
  {
   "cell_type": "markdown",
   "metadata": {},
   "source": [
    "- 10\n",
    "![](../Photo/131.png)"
   ]
  },
  {
   "cell_type": "markdown",
   "metadata": {},
   "source": [
    "- 11\n",
    "![](../Photo/132.png)"
   ]
  },
  {
   "cell_type": "markdown",
   "metadata": {},
   "source": [
    "- 12\n",
    "![](../Photo/133.png)"
   ]
  }
 ],
 "metadata": {
  "kernelspec": {
   "display_name": "Python 3",
   "language": "python",
   "name": "python3"
  },
  "language_info": {
   "codemirror_mode": {
    "name": "ipython",
    "version": 3
   },
   "file_extension": ".py",
   "mimetype": "text/x-python",
   "name": "python",
   "nbconvert_exporter": "python",
   "pygments_lexer": "ipython3",
   "version": "3.7.3"
  }
 },
 "nbformat": 4,
 "nbformat_minor": 2
}
